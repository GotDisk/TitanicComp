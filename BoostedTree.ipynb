{
 "cells": [
  {
   "cell_type": "code",
   "execution_count": 1,
   "id": "a0b37711-5ba3-4c8e-9f13-a173aa45f8d5",
   "metadata": {},
   "outputs": [],
   "source": [
    "import numpy as np\n",
    "import pandas as pd\n",
    "\n",
    "# Reading Data File\n",
    "titanic_data_file_path = 'train.csv'\n",
    "titanic_data = pd.read_csv(titanic_data_file_path)\n",
    "#titanic_data.columns"
   ]
  },
  {
   "cell_type": "code",
   "execution_count": 2,
   "id": "b6f6a66e-58a3-42a6-ab98-de53ab079574",
   "metadata": {},
   "outputs": [],
   "source": [
    "# Set target \n",
    "y = titanic_data.Survived\n",
    "# Set features\n",
    "# Removed 'Sex', 'Cabin' columns, couldn't convert string to float\n",
    "# Pclass = passenger class, SibSp = Number of Siblings/Spouses Aboard, Parch = Number of Parents/Children Aboard\n",
    "feature_names = ['Pclass', 'Age', 'Fare', 'SibSp', 'Parch']\n",
    "X = titanic_data[feature_names]"
   ]
  },
  {
   "cell_type": "code",
   "execution_count": 3,
   "id": "120c41d9-ce4e-4423-8346-85b3b2ade309",
   "metadata": {},
   "outputs": [],
   "source": [
    "# Split data\n",
    "from sklearn.model_selection import train_test_split\n",
    "train_X, val_X, train_y, val_y = train_test_split(X, y)"
   ]
  },
  {
   "cell_type": "code",
   "execution_count": 4,
   "id": "f99cbff7-7809-4f63-8a22-b8a1b5ac253e",
   "metadata": {},
   "outputs": [
    {
     "ename": "ImportError",
     "evalue": "cannot import name 'score' from 'sklearn.metrics' (/home/studio-lab-user/.conda/envs/d2l/lib/python3.9/site-packages/sklearn/metrics/__init__.py)",
     "output_type": "error",
     "traceback": [
      "\u001b[0;31m---------------------------------------------------------------------------\u001b[0m",
      "\u001b[0;31mImportError\u001b[0m                               Traceback (most recent call last)",
      "Cell \u001b[0;32mIn [4], line 3\u001b[0m\n\u001b[1;32m      1\u001b[0m \u001b[38;5;66;03m# Fit and validate model\u001b[39;00m\n\u001b[1;32m      2\u001b[0m \u001b[38;5;28;01mfrom\u001b[39;00m \u001b[38;5;21;01msklearn\u001b[39;00m\u001b[38;5;21;01m.\u001b[39;00m\u001b[38;5;21;01mensemble\u001b[39;00m \u001b[38;5;28;01mimport\u001b[39;00m HistGradientBoostingClassifier\n\u001b[0;32m----> 3\u001b[0m \u001b[38;5;28;01mfrom\u001b[39;00m \u001b[38;5;21;01msklearn\u001b[39;00m\u001b[38;5;21;01m.\u001b[39;00m\u001b[38;5;21;01mmetrics\u001b[39;00m \u001b[38;5;28;01mimport\u001b[39;00m score\n\u001b[1;32m      5\u001b[0m boost_model \u001b[38;5;241m=\u001b[39m HistGradientBoostingClassifier()\n\u001b[1;32m      6\u001b[0m boost_model\u001b[38;5;241m.\u001b[39mfit(train_X, train_y)\n",
      "\u001b[0;31mImportError\u001b[0m: cannot import name 'score' from 'sklearn.metrics' (/home/studio-lab-user/.conda/envs/d2l/lib/python3.9/site-packages/sklearn/metrics/__init__.py)"
     ]
    }
   ],
   "source": [
    "# Fit and validate model\n",
    "from sklearn.ensemble import HistGradientBoostingClassifier\n",
    "from sklearn.metrics import score\n",
    "\n",
    "boost_model = HistGradientBoostingClassifier()\n",
    "boost_model.fit(train_X, train_y)\n",
    "titanic_preds = boost_model.predict(val_X)\n",
    "print(titanic_preds.score(val_y, titanic_preds))"
   ]
  }
 ],
 "metadata": {
  "kernelspec": {
   "display_name": "d2l:Python",
   "language": "python",
   "name": "conda-env-d2l-py"
  },
  "language_info": {
   "codemirror_mode": {
    "name": "ipython",
    "version": 3
   },
   "file_extension": ".py",
   "mimetype": "text/x-python",
   "name": "python",
   "nbconvert_exporter": "python",
   "pygments_lexer": "ipython3",
   "version": "3.9.13"
  }
 },
 "nbformat": 4,
 "nbformat_minor": 5
}
