{
 "cells": [
  {
   "cell_type": "code",
   "execution_count": 1,
   "id": "594866dd-10c4-4207-9969-b8b3a5f31cbb",
   "metadata": {},
   "outputs": [],
   "source": [
    "import numpy as np\n",
    "import pandas as pd\n",
    "import matplotlib.pyplot as plt\n",
    "from sklearn.linear_model import LogisticRegression"
   ]
  },
  {
   "cell_type": "code",
   "execution_count": 2,
   "id": "e86dec50-bd24-4ed4-bdf2-9ab91bbaa3f8",
   "metadata": {},
   "outputs": [
    {
     "name": "stdout",
     "output_type": "stream",
     "text": [
      "[2.01679909 1.1867714  1.19420473 1.77385374 1.05946199 2.66777925\n",
      " 2.41065778 1.1554291  1.14714377 1.7359655  2.87950188 2.36944359\n",
      " 2.18128517 2.17161614 1.65503978 1.43137308 1.77650699 1.33196805\n",
      " 1.45121735 2.82340953]\n",
      "[ 0.7572009   0.67048543  0.66511101 -0.04398538  0.68662827  0.7773173\n",
      "  1.23125347  1.17130075 -0.25418421  0.74969714  1.43998523  0.00923509\n",
      "  0.9649781   1.05427342  0.15265711  1.02001663  1.07945531  0.70600171\n",
      "  1.33315806  0.97842494]\n"
     ]
    }
   ],
   "source": [
    "class_1 = np.random.random(20)*2 + 1\n",
    "class_2 = np.random.random(20)*2 - 0.5\n",
    "print(class_1)\n",
    "print(class_2)"
   ]
  },
  {
   "cell_type": "code",
   "execution_count": 15,
   "id": "d59492b8-b112-4882-a1f0-263747d1f7a7",
   "metadata": {},
   "outputs": [
    {
     "data": {
      "text/html": [
       "<div>\n",
       "<style scoped>\n",
       "    .dataframe tbody tr th:only-of-type {\n",
       "        vertical-align: middle;\n",
       "    }\n",
       "\n",
       "    .dataframe tbody tr th {\n",
       "        vertical-align: top;\n",
       "    }\n",
       "\n",
       "    .dataframe thead th {\n",
       "        text-align: right;\n",
       "    }\n",
       "</style>\n",
       "<table border=\"1\" class=\"dataframe\">\n",
       "  <thead>\n",
       "    <tr style=\"text-align: right;\">\n",
       "      <th></th>\n",
       "      <th>x</th>\n",
       "      <th>y</th>\n",
       "    </tr>\n",
       "  </thead>\n",
       "  <tbody>\n",
       "    <tr>\n",
       "      <th>0</th>\n",
       "      <td>2.016799</td>\n",
       "      <td>0</td>\n",
       "    </tr>\n",
       "    <tr>\n",
       "      <th>1</th>\n",
       "      <td>1.186771</td>\n",
       "      <td>0</td>\n",
       "    </tr>\n",
       "    <tr>\n",
       "      <th>2</th>\n",
       "      <td>1.194205</td>\n",
       "      <td>0</td>\n",
       "    </tr>\n",
       "    <tr>\n",
       "      <th>3</th>\n",
       "      <td>1.773854</td>\n",
       "      <td>0</td>\n",
       "    </tr>\n",
       "    <tr>\n",
       "      <th>4</th>\n",
       "      <td>1.059462</td>\n",
       "      <td>0</td>\n",
       "    </tr>\n",
       "    <tr>\n",
       "      <th>5</th>\n",
       "      <td>2.667779</td>\n",
       "      <td>0</td>\n",
       "    </tr>\n",
       "    <tr>\n",
       "      <th>6</th>\n",
       "      <td>2.410658</td>\n",
       "      <td>0</td>\n",
       "    </tr>\n",
       "    <tr>\n",
       "      <th>7</th>\n",
       "      <td>1.155429</td>\n",
       "      <td>0</td>\n",
       "    </tr>\n",
       "    <tr>\n",
       "      <th>8</th>\n",
       "      <td>1.147144</td>\n",
       "      <td>0</td>\n",
       "    </tr>\n",
       "    <tr>\n",
       "      <th>9</th>\n",
       "      <td>1.735966</td>\n",
       "      <td>0</td>\n",
       "    </tr>\n",
       "    <tr>\n",
       "      <th>10</th>\n",
       "      <td>2.879502</td>\n",
       "      <td>0</td>\n",
       "    </tr>\n",
       "    <tr>\n",
       "      <th>11</th>\n",
       "      <td>2.369444</td>\n",
       "      <td>0</td>\n",
       "    </tr>\n",
       "    <tr>\n",
       "      <th>12</th>\n",
       "      <td>2.181285</td>\n",
       "      <td>0</td>\n",
       "    </tr>\n",
       "    <tr>\n",
       "      <th>13</th>\n",
       "      <td>2.171616</td>\n",
       "      <td>0</td>\n",
       "    </tr>\n",
       "    <tr>\n",
       "      <th>14</th>\n",
       "      <td>1.655040</td>\n",
       "      <td>0</td>\n",
       "    </tr>\n",
       "    <tr>\n",
       "      <th>15</th>\n",
       "      <td>1.431373</td>\n",
       "      <td>0</td>\n",
       "    </tr>\n",
       "    <tr>\n",
       "      <th>16</th>\n",
       "      <td>1.776507</td>\n",
       "      <td>0</td>\n",
       "    </tr>\n",
       "    <tr>\n",
       "      <th>17</th>\n",
       "      <td>1.331968</td>\n",
       "      <td>0</td>\n",
       "    </tr>\n",
       "    <tr>\n",
       "      <th>18</th>\n",
       "      <td>1.451217</td>\n",
       "      <td>0</td>\n",
       "    </tr>\n",
       "    <tr>\n",
       "      <th>19</th>\n",
       "      <td>2.823410</td>\n",
       "      <td>0</td>\n",
       "    </tr>\n",
       "    <tr>\n",
       "      <th>20</th>\n",
       "      <td>0.757201</td>\n",
       "      <td>1</td>\n",
       "    </tr>\n",
       "    <tr>\n",
       "      <th>21</th>\n",
       "      <td>0.670485</td>\n",
       "      <td>1</td>\n",
       "    </tr>\n",
       "    <tr>\n",
       "      <th>22</th>\n",
       "      <td>0.665111</td>\n",
       "      <td>1</td>\n",
       "    </tr>\n",
       "    <tr>\n",
       "      <th>23</th>\n",
       "      <td>-0.043985</td>\n",
       "      <td>1</td>\n",
       "    </tr>\n",
       "    <tr>\n",
       "      <th>24</th>\n",
       "      <td>0.686628</td>\n",
       "      <td>1</td>\n",
       "    </tr>\n",
       "    <tr>\n",
       "      <th>25</th>\n",
       "      <td>0.777317</td>\n",
       "      <td>1</td>\n",
       "    </tr>\n",
       "    <tr>\n",
       "      <th>26</th>\n",
       "      <td>1.231253</td>\n",
       "      <td>1</td>\n",
       "    </tr>\n",
       "    <tr>\n",
       "      <th>27</th>\n",
       "      <td>1.171301</td>\n",
       "      <td>1</td>\n",
       "    </tr>\n",
       "    <tr>\n",
       "      <th>28</th>\n",
       "      <td>-0.254184</td>\n",
       "      <td>1</td>\n",
       "    </tr>\n",
       "    <tr>\n",
       "      <th>29</th>\n",
       "      <td>0.749697</td>\n",
       "      <td>1</td>\n",
       "    </tr>\n",
       "    <tr>\n",
       "      <th>30</th>\n",
       "      <td>1.439985</td>\n",
       "      <td>1</td>\n",
       "    </tr>\n",
       "    <tr>\n",
       "      <th>31</th>\n",
       "      <td>0.009235</td>\n",
       "      <td>1</td>\n",
       "    </tr>\n",
       "    <tr>\n",
       "      <th>32</th>\n",
       "      <td>0.964978</td>\n",
       "      <td>1</td>\n",
       "    </tr>\n",
       "    <tr>\n",
       "      <th>33</th>\n",
       "      <td>1.054273</td>\n",
       "      <td>1</td>\n",
       "    </tr>\n",
       "    <tr>\n",
       "      <th>34</th>\n",
       "      <td>0.152657</td>\n",
       "      <td>1</td>\n",
       "    </tr>\n",
       "    <tr>\n",
       "      <th>35</th>\n",
       "      <td>1.020017</td>\n",
       "      <td>1</td>\n",
       "    </tr>\n",
       "    <tr>\n",
       "      <th>36</th>\n",
       "      <td>1.079455</td>\n",
       "      <td>1</td>\n",
       "    </tr>\n",
       "    <tr>\n",
       "      <th>37</th>\n",
       "      <td>0.706002</td>\n",
       "      <td>1</td>\n",
       "    </tr>\n",
       "    <tr>\n",
       "      <th>38</th>\n",
       "      <td>1.333158</td>\n",
       "      <td>1</td>\n",
       "    </tr>\n",
       "    <tr>\n",
       "      <th>39</th>\n",
       "      <td>0.978425</td>\n",
       "      <td>1</td>\n",
       "    </tr>\n",
       "  </tbody>\n",
       "</table>\n",
       "</div>"
      ],
      "text/plain": [
       "           x  y\n",
       "0   2.016799  0\n",
       "1   1.186771  0\n",
       "2   1.194205  0\n",
       "3   1.773854  0\n",
       "4   1.059462  0\n",
       "5   2.667779  0\n",
       "6   2.410658  0\n",
       "7   1.155429  0\n",
       "8   1.147144  0\n",
       "9   1.735966  0\n",
       "10  2.879502  0\n",
       "11  2.369444  0\n",
       "12  2.181285  0\n",
       "13  2.171616  0\n",
       "14  1.655040  0\n",
       "15  1.431373  0\n",
       "16  1.776507  0\n",
       "17  1.331968  0\n",
       "18  1.451217  0\n",
       "19  2.823410  0\n",
       "20  0.757201  1\n",
       "21  0.670485  1\n",
       "22  0.665111  1\n",
       "23 -0.043985  1\n",
       "24  0.686628  1\n",
       "25  0.777317  1\n",
       "26  1.231253  1\n",
       "27  1.171301  1\n",
       "28 -0.254184  1\n",
       "29  0.749697  1\n",
       "30  1.439985  1\n",
       "31  0.009235  1\n",
       "32  0.964978  1\n",
       "33  1.054273  1\n",
       "34  0.152657  1\n",
       "35  1.020017  1\n",
       "36  1.079455  1\n",
       "37  0.706002  1\n",
       "38  1.333158  1\n",
       "39  0.978425  1"
      ]
     },
     "execution_count": 15,
     "metadata": {},
     "output_type": "execute_result"
    }
   ],
   "source": [
    "data = pd.DataFrame()\n",
    "data['x'] = np.concatenate([class_1, class_2])\n",
    "data['y'] = [0]*20 + [1]*20\n",
    "data = data.sample(frac=1)"
   ]
  },
  {
   "cell_type": "code",
   "execution_count": 4,
   "id": "d172b245-3fbf-45e3-853c-78c3e808b47f",
   "metadata": {},
   "outputs": [
    {
     "data": {
      "text/html": [
       "<div>\n",
       "<style scoped>\n",
       "    .dataframe tbody tr th:only-of-type {\n",
       "        vertical-align: middle;\n",
       "    }\n",
       "\n",
       "    .dataframe tbody tr th {\n",
       "        vertical-align: top;\n",
       "    }\n",
       "\n",
       "    .dataframe thead th {\n",
       "        text-align: right;\n",
       "    }\n",
       "</style>\n",
       "<table border=\"1\" class=\"dataframe\">\n",
       "  <thead>\n",
       "    <tr style=\"text-align: right;\">\n",
       "      <th></th>\n",
       "      <th>x</th>\n",
       "      <th>y</th>\n",
       "    </tr>\n",
       "  </thead>\n",
       "  <tbody>\n",
       "    <tr>\n",
       "      <th>8</th>\n",
       "      <td>1.147144</td>\n",
       "      <td>0</td>\n",
       "    </tr>\n",
       "    <tr>\n",
       "      <th>26</th>\n",
       "      <td>1.231253</td>\n",
       "      <td>1</td>\n",
       "    </tr>\n",
       "    <tr>\n",
       "      <th>37</th>\n",
       "      <td>0.706002</td>\n",
       "      <td>1</td>\n",
       "    </tr>\n",
       "    <tr>\n",
       "      <th>21</th>\n",
       "      <td>0.670485</td>\n",
       "      <td>1</td>\n",
       "    </tr>\n",
       "    <tr>\n",
       "      <th>33</th>\n",
       "      <td>1.054273</td>\n",
       "      <td>1</td>\n",
       "    </tr>\n",
       "  </tbody>\n",
       "</table>\n",
       "</div>"
      ],
      "text/plain": [
       "           x  y\n",
       "8   1.147144  0\n",
       "26  1.231253  1\n",
       "37  0.706002  1\n",
       "21  0.670485  1\n",
       "33  1.054273  1"
      ]
     },
     "execution_count": 4,
     "metadata": {},
     "output_type": "execute_result"
    }
   ],
   "source": [
    "data.head()"
   ]
  },
  {
   "cell_type": "code",
   "execution_count": 5,
   "id": "66b2abc5-084e-41f1-b218-413728d20af9",
   "metadata": {},
   "outputs": [
    {
     "data": {
      "text/plain": [
       "<matplotlib.collections.PathCollection at 0x7fc9378e95b0>"
      ]
     },
     "execution_count": 5,
     "metadata": {},
     "output_type": "execute_result"
    },
    {
     "data": {
      "image/png": "[encoded data removed]",
      "text/plain": [
       "<Figure size 640x480 with 1 Axes>"
      ]
     },
     "metadata": {},
     "output_type": "display_data"
    }
   ],
   "source": [
    "plt.scatter(data.x, data.y, s=5)"
   ]
  },
  {
   "cell_type": "code",
   "execution_count": 6,
   "id": "1adec3b1-6474-4fab-9ffd-3598f224e3c2",
   "metadata": {},
   "outputs": [],
   "source": [
    "def calculate_gradient_log_likelihood(curr_betas, data):\n",
    "    numerator = np.exp(curr_betas[0] + curr_betas[1]*data.x)\n",
    "    p = numerator / (1+numerator)\n",
    "    \n",
    "    # Calculate partials\n",
    "    partial_0 = np.sum(data.y - p)\n",
    "    partial_1 = np.sum((data.y - p)*data.x)\n",
    "    \n",
    "    return np.array([partial_0, partial_1])"
   ]
  },
  {
   "cell_type": "code",
   "execution_count": 7,
   "id": "ab38b506-e373-402d-be46-63af3ff9f668",
   "metadata": {},
   "outputs": [
    {
     "name": "stdout",
     "output_type": "stream",
     "text": [
      "[ 8.4263996  -6.95349825]\n"
     ]
    }
   ],
   "source": [
    "curr_betas = np.array([0.0, 0.0])\n",
    "diff = np.inf\n",
    "eta = 0.1\n",
    "\n",
    "while diff > 0.001:\n",
    "    grad = calculate_gradient_log_likelihood(curr_betas, data)\n",
    "    diff = abs(grad).sum()\n",
    "    curr_betas += eta*grad\n",
    "    \n",
    "print(curr_betas)"
   ]
  },
  {
   "cell_type": "code",
   "execution_count": 10,
   "id": "85b3d4dc-8ff2-4d03-aebe-e917b2b80ddb",
   "metadata": {},
   "outputs": [
    {
     "data": {
      "text/plain": [
       "[<matplotlib.lines.Line2D at 0x7fc92eace0d0>]"
      ]
     },
     "execution_count": 10,
     "metadata": {},
     "output_type": "execute_result"
    },
    {
     "data": {
      "image/png": "[encoded data removed]",
      "text/plain": [
       "<Figure size 640x480 with 1 Axes>"
      ]
     },
     "metadata": {},
     "output_type": "display_data"
    }
   ],
   "source": [
    "plt.scatter(data.x, data.y, s=5)\n",
    "\n",
    "x_vals = np.arange(data.x.min(), data.x.max(), .01)\n",
    "p_vals = 1 / (1+ np.exp(-(curr_betas[0] + curr_betas[1]*x_vals)))\n",
    "plt.plot(x_vals, p_vals)"
   ]
  },
  {
   "cell_type": "code",
   "execution_count": 12,
   "id": "a9bab1bb-f25f-472a-b4a8-e29d478aeeda",
   "metadata": {},
   "outputs": [
    {
     "name": "stdout",
     "output_type": "stream",
     "text": [
      "beta_0: 8.435241880068448\n",
      "beta_1: -6.9608845207584835\n"
     ]
    }
   ],
   "source": [
    "clf = LogisticRegression(penalty='none')\n",
    "clf.fit(np.array(data.x).reshape(-1,1), data.y)\n",
    "print('beta_0: %s'%clf.intercept_[0])\n",
    "print('beta_1: %s'%clf.coef_[0][0])"
   ]
  },
  {
   "cell_type": "code",
   "execution_count": 13,
   "id": "eed0bd8c-6356-474a-95df-4f28e885a47f",
   "metadata": {},
   "outputs": [
    {
     "data": {
      "text/plain": [
       "[<matplotlib.lines.Line2D at 0x7fc92e9eabe0>]"
      ]
     },
     "execution_count": 13,
     "metadata": {},
     "output_type": "execute_result"
    },
    {
     "data": {
      "image/png": "[encoded data removed]",
      "text/plain": [
       "<Figure size 640x480 with 1 Axes>"
      ]
     },
     "metadata": {},
     "output_type": "display_data"
    }
   ],
   "source": [
    "plt.scatter(data.x, data.y, s=5)\n",
    "\n",
    "x_vals = np.arange(data.x.min(), data.x.max(), .01)\n",
    "p_vals = 1 / (1 + np.exp(-(clf.intercept_[0] + clf.coef_[0][0]*x_vals)))\n",
    "plt.plot(x_vals, p_vals)"
   ]
  },
  {
   "cell_type": "code",
   "execution_count": null,
   "id": "7b211fac-f478-4286-9df2-58febd06ba0d",
   "metadata": {},
   "outputs": [],
   "source": []
  }
 ],
 "metadata": {
  "kernelspec": {
   "display_name": "d2l:Python",
   "language": "python",
   "name": "conda-env-d2l-py"
  },
  "language_info": {
   "codemirror_mode": {
    "name": "ipython",
    "version": 3
   },
   "file_extension": ".py",
   "mimetype": "text/x-python",
   "name": "python",
   "nbconvert_exporter": "python",
   "pygments_lexer": "ipython3",
   "version": "3.9.13"
  }
 },
 "nbformat": 4,
 "nbformat_minor": 5
}
