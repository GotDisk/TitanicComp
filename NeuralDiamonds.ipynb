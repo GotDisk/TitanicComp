{
 "cells": [
  {
   "cell_type": "code",
   "execution_count": 1,
   "id": "7375d6e9-fe3d-417a-a30e-9f8320629749",
   "metadata": {},
   "outputs": [
    {
     "name": "stderr",
     "output_type": "stream",
     "text": [
      "2022-10-13 00:54:00.701301: I tensorflow/core/platform/cpu_feature_guard.cc:193] This TensorFlow binary is optimized with oneAPI Deep Neural Network Library (oneDNN) to use the following CPU instructions in performance-critical operations:  AVX2 AVX512F FMA\n",
      "To enable them in other operations, rebuild TensorFlow with the appropriate compiler flags.\n",
      "2022-10-13 00:54:01.221627: W tensorflow/stream_executor/platform/default/dso_loader.cc:64] Could not load dynamic library 'libcudart.so.11.0'; dlerror: libcudart.so.11.0: cannot open shared object file: No such file or directory\n",
      "2022-10-13 00:54:01.221660: I tensorflow/stream_executor/cuda/cudart_stub.cc:29] Ignore above cudart dlerror if you do not have a GPU set up on your machine.\n",
      "2022-10-13 00:54:01.295576: E tensorflow/stream_executor/cuda/cuda_blas.cc:2981] Unable to register cuBLAS factory: Attempting to register factory for plugin cuBLAS when one has already been registered\n",
      "2022-10-13 00:54:03.312119: W tensorflow/stream_executor/platform/default/dso_loader.cc:64] Could not load dynamic library 'libnvinfer.so.7'; dlerror: libnvinfer.so.7: cannot open shared object file: No such file or directory\n",
      "2022-10-13 00:54:03.312263: W tensorflow/stream_executor/platform/default/dso_loader.cc:64] Could not load dynamic library 'libnvinfer_plugin.so.7'; dlerror: libnvinfer_plugin.so.7: cannot open shared object file: No such file or directory\n",
      "2022-10-13 00:54:03.312276: W tensorflow/compiler/tf2tensorrt/utils/py_utils.cc:38] TF-TRT Warning: Cannot dlopen some TensorRT libraries. If you would like to use Nvidia GPU with TensorRT, please make sure the missing libraries mentioned above are installed properly.\n"
     ]
    }
   ],
   "source": [
    "import numpy as np\n",
    "import pandas as pd\n",
    "import keras\n",
    "import sklearn\n",
    "from keras.layers import Dense, Dropout\n",
    "from keras.models import Sequential\n",
    "import matplotlib.pyplot as plt\n",
    "import seaborn as sns\n",
    "from sklearn.model_selection import train_test_split\n",
    "from sklearn.preprocessing import LabelEncoder\n",
    "from keras.metrics import mean_squared_error\n",
    "#plt.style.use('dark_background')\n",
    "import warnings\n",
    "warnings.filterwarnings('ignore')\n",
    "#sns.set(style = 'ticks', context = 'talk')\n",
    "%matplotlib inline"
   ]
  },
  {
   "cell_type": "code",
   "execution_count": 2,
   "id": "9bf0703b-aacc-4f30-8794-e887dced7126",
   "metadata": {},
   "outputs": [
    {
     "data": {
      "text/plain": [
       "Index(['carat', 'cut', 'color', 'clarity', 'depth', 'table', 'price', 'x', 'y',\n",
       "       'z'],\n",
       "      dtype='object')"
      ]
     },
     "execution_count": 2,
     "metadata": {},
     "output_type": "execute_result"
    }
   ],
   "source": [
    "diamond_data_file_path = 'diamonds.csv'\n",
    "diamond_data = pd.read_csv(diamond_data_file_path)\n",
    "#Drop Unnamed column\n",
    "diamond_data = diamond_data.drop('Unnamed: 0', axis=1)\n",
    "diamond_data.columns"
   ]
  },
  {
   "cell_type": "code",
   "execution_count": 3,
   "id": "0a0d3ea7-176d-4ea6-9a3b-2b967a6fed7a",
   "metadata": {},
   "outputs": [
    {
     "data": {
      "text/plain": [
       "carat      float64\n",
       "cut         object\n",
       "color       object\n",
       "clarity     object\n",
       "depth      float64\n",
       "table      float64\n",
       "price        int64\n",
       "x          float64\n",
       "y          float64\n",
       "z          float64\n",
       "dtype: object"
      ]
     },
     "execution_count": 3,
     "metadata": {},
     "output_type": "execute_result"
    }
   ],
   "source": [
    "diamond_data.dtypes"
   ]
  },
  {
   "cell_type": "code",
   "execution_count": 4,
   "id": "bedb43bf-216f-4e5b-852e-dafc72cef110",
   "metadata": {},
   "outputs": [
    {
     "data": {
      "text/plain": [
       "carat      0\n",
       "cut        0\n",
       "color      0\n",
       "clarity    0\n",
       "depth      0\n",
       "table      0\n",
       "price      0\n",
       "x          0\n",
       "y          0\n",
       "z          0\n",
       "dtype: int64"
      ]
     },
     "execution_count": 4,
     "metadata": {},
     "output_type": "execute_result"
    }
   ],
   "source": [
    "diamond_data.isna().sum()"
   ]
  },
  {
   "cell_type": "code",
   "execution_count": 5,
   "id": "03c4bcba-8653-44eb-99e0-6ec81fc3c149",
   "metadata": {},
   "outputs": [
    {
     "data": {
      "text/plain": [
       "carat      float64\n",
       "cut          int64\n",
       "color        int64\n",
       "clarity      int64\n",
       "depth      float64\n",
       "table      float64\n",
       "price        int64\n",
       "x          float64\n",
       "y          float64\n",
       "z          float64\n",
       "dtype: object"
      ]
     },
     "execution_count": 5,
     "metadata": {},
     "output_type": "execute_result"
    }
   ],
   "source": [
    "encoder = LabelEncoder()\n",
    "\n",
    "encoder.fit(diamond_data['cut'])\n",
    "diamond_data['cut'] = encoder.transform(diamond_data['cut'])\n",
    "\n",
    "encoder.fit(diamond_data['color'])\n",
    "diamond_data['color'] = encoder.transform(diamond_data['color'])\n",
    "\n",
    "encoder.fit(diamond_data['clarity'])\n",
    "diamond_data['clarity'] = encoder.transform(diamond_data['clarity'])\n",
    "\n",
    "diamond_data.dtypes"
   ]
  },
  {
   "cell_type": "code",
   "execution_count": 6,
   "id": "b7962eb7-9d25-43c2-bc21-c1cee8bbe563",
   "metadata": {},
   "outputs": [
    {
     "data": {
      "text/html": [
       "<div>\n",
       "<style scoped>\n",
       "    .dataframe tbody tr th:only-of-type {\n",
       "        vertical-align: middle;\n",
       "    }\n",
       "\n",
       "    .dataframe tbody tr th {\n",
       "        vertical-align: top;\n",
       "    }\n",
       "\n",
       "    .dataframe thead th {\n",
       "        text-align: right;\n",
       "    }\n",
       "</style>\n",
       "<table border=\"1\" class=\"dataframe\">\n",
       "  <thead>\n",
       "    <tr style=\"text-align: right;\">\n",
       "      <th></th>\n",
       "      <th>carat</th>\n",
       "      <th>cut</th>\n",
       "      <th>color</th>\n",
       "      <th>clarity</th>\n",
       "      <th>depth</th>\n",
       "      <th>table</th>\n",
       "      <th>price</th>\n",
       "      <th>x</th>\n",
       "      <th>y</th>\n",
       "      <th>z</th>\n",
       "    </tr>\n",
       "  </thead>\n",
       "  <tbody>\n",
       "    <tr>\n",
       "      <th>0</th>\n",
       "      <td>0.23</td>\n",
       "      <td>2</td>\n",
       "      <td>1</td>\n",
       "      <td>3</td>\n",
       "      <td>61.5</td>\n",
       "      <td>55.0</td>\n",
       "      <td>326</td>\n",
       "      <td>3.95</td>\n",
       "      <td>3.98</td>\n",
       "      <td>2.43</td>\n",
       "    </tr>\n",
       "    <tr>\n",
       "      <th>1</th>\n",
       "      <td>0.21</td>\n",
       "      <td>3</td>\n",
       "      <td>1</td>\n",
       "      <td>2</td>\n",
       "      <td>59.8</td>\n",
       "      <td>61.0</td>\n",
       "      <td>326</td>\n",
       "      <td>3.89</td>\n",
       "      <td>3.84</td>\n",
       "      <td>2.31</td>\n",
       "    </tr>\n",
       "    <tr>\n",
       "      <th>2</th>\n",
       "      <td>0.23</td>\n",
       "      <td>1</td>\n",
       "      <td>1</td>\n",
       "      <td>4</td>\n",
       "      <td>56.9</td>\n",
       "      <td>65.0</td>\n",
       "      <td>327</td>\n",
       "      <td>4.05</td>\n",
       "      <td>4.07</td>\n",
       "      <td>2.31</td>\n",
       "    </tr>\n",
       "    <tr>\n",
       "      <th>3</th>\n",
       "      <td>0.29</td>\n",
       "      <td>3</td>\n",
       "      <td>5</td>\n",
       "      <td>5</td>\n",
       "      <td>62.4</td>\n",
       "      <td>58.0</td>\n",
       "      <td>334</td>\n",
       "      <td>4.20</td>\n",
       "      <td>4.23</td>\n",
       "      <td>2.63</td>\n",
       "    </tr>\n",
       "    <tr>\n",
       "      <th>4</th>\n",
       "      <td>0.31</td>\n",
       "      <td>1</td>\n",
       "      <td>6</td>\n",
       "      <td>3</td>\n",
       "      <td>63.3</td>\n",
       "      <td>58.0</td>\n",
       "      <td>335</td>\n",
       "      <td>4.34</td>\n",
       "      <td>4.35</td>\n",
       "      <td>2.75</td>\n",
       "    </tr>\n",
       "  </tbody>\n",
       "</table>\n",
       "</div>"
      ],
      "text/plain": [
       "   carat  cut  color  clarity  depth  table  price     x     y     z\n",
       "0   0.23    2      1        3   61.5   55.0    326  3.95  3.98  2.43\n",
       "1   0.21    3      1        2   59.8   61.0    326  3.89  3.84  2.31\n",
       "2   0.23    1      1        4   56.9   65.0    327  4.05  4.07  2.31\n",
       "3   0.29    3      5        5   62.4   58.0    334  4.20  4.23  2.63\n",
       "4   0.31    1      6        3   63.3   58.0    335  4.34  4.35  2.75"
      ]
     },
     "execution_count": 6,
     "metadata": {},
     "output_type": "execute_result"
    }
   ],
   "source": [
    "diamond_data.head()"
   ]
  },
  {
   "cell_type": "code",
   "execution_count": 7,
   "id": "9d70708e-3db7-4b1a-a958-360e400fe0e4",
   "metadata": {},
   "outputs": [],
   "source": [
    "X = diamond_data.drop(['price'], axis = 1)\n",
    "y = diamond_data['price']"
   ]
  },
  {
   "cell_type": "code",
   "execution_count": 8,
   "id": "5c4a49e8-9724-41f2-abee-d6262407bc84",
   "metadata": {},
   "outputs": [],
   "source": [
    "X_train, X_test, y_train, y_test = train_test_split(X, y)"
   ]
  },
  {
   "cell_type": "code",
   "execution_count": 9,
   "id": "3a0ce41a-124f-4ee5-86a6-906ca4e369b4",
   "metadata": {},
   "outputs": [],
   "source": [
    "X_train = (X_train - X_train.mean()) / X_train.std()\n",
    "X_test = (X_test - X_test.mean()) / X_test.std()"
   ]
  },
  {
   "cell_type": "code",
   "execution_count": 10,
   "id": "3d991938-a2e1-4008-8835-c6844cda2e59",
   "metadata": {},
   "outputs": [
    {
     "name": "stderr",
     "output_type": "stream",
     "text": [
      "2022-10-13 00:54:07.914349: W tensorflow/stream_executor/platform/default/dso_loader.cc:64] Could not load dynamic library 'libcuda.so.1'; dlerror: libcuda.so.1: cannot open shared object file: No such file or directory\n",
      "2022-10-13 00:54:07.914419: W tensorflow/stream_executor/cuda/cuda_driver.cc:263] failed call to cuInit: UNKNOWN ERROR (303)\n",
      "2022-10-13 00:54:07.914462: I tensorflow/stream_executor/cuda/cuda_diagnostics.cc:156] kernel driver does not appear to be running on this host (default): /proc/driver/nvidia/version does not exist\n",
      "2022-10-13 00:54:07.915236: I tensorflow/core/platform/cpu_feature_guard.cc:193] This TensorFlow binary is optimized with oneAPI Deep Neural Network Library (oneDNN) to use the following CPU instructions in performance-critical operations:  AVX2 AVX512F FMA\n",
      "To enable them in other operations, rebuild TensorFlow with the appropriate compiler flags.\n"
     ]
    }
   ],
   "source": [
    "model = keras.Sequential([\n",
    "    keras.layers.Dense(100, activation='relu', input_shape=[9]),\n",
    "    keras.layers.Dense(80, activation='relu'), \n",
    "    keras.layers.Dense(90, activation='relu'),\n",
    "    keras.layers.Dense(64, activation='relu'),\n",
    "    keras.layers.Dense(1),\n",
    "])"
   ]
  },
  {
   "cell_type": "code",
   "execution_count": 11,
   "id": "12fa3c62-4192-444c-b10f-3ca7f323c1a3",
   "metadata": {},
   "outputs": [],
   "source": [
    "model.compile(\n",
    "    optimizer=\"adam\",\n",
    "    loss=\"mae\",\n",
    ")"
   ]
  },
  {
   "cell_type": "code",
   "execution_count": 12,
   "id": "bdeeb2e1-94c9-43f4-a71b-489034b5da54",
   "metadata": {},
   "outputs": [
    {
     "name": "stdout",
     "output_type": "stream",
     "text": [
      "Epoch 1/100\n",
      "2293/2293 [==============================] - 27s 11ms/step - loss: 778.3122 - val_loss: 560.1267\n",
      "Epoch 2/100\n",
      "2293/2293 [==============================] - 23s 10ms/step - loss: 534.6506 - val_loss: 527.9665\n",
      "Epoch 3/100\n",
      "2293/2293 [==============================] - 24s 10ms/step - loss: 512.2240 - val_loss: 527.0300\n",
      "Epoch 4/100\n",
      "2293/2293 [==============================] - 21s 9ms/step - loss: 503.2290 - val_loss: 527.9649\n",
      "Epoch 5/100\n",
      "2293/2293 [==============================] - 21s 9ms/step - loss: 489.4672 - val_loss: 525.5559\n",
      "Epoch 6/100\n",
      "2293/2293 [==============================] - 22s 10ms/step - loss: 476.8874 - val_loss: 486.0550\n",
      "Epoch 7/100\n",
      "2293/2293 [==============================] - 23s 10ms/step - loss: 463.5877 - val_loss: 470.4297\n",
      "Epoch 8/100\n",
      "2293/2293 [==============================] - 23s 10ms/step - loss: 453.3923 - val_loss: 470.4030\n",
      "Epoch 9/100\n",
      "2293/2293 [==============================] - 23s 10ms/step - loss: 439.1141 - val_loss: 448.6742\n",
      "Epoch 10/100\n",
      "2293/2293 [==============================] - 21s 9ms/step - loss: 426.1566 - val_loss: 473.5728\n",
      "Epoch 11/100\n",
      "2293/2293 [==============================] - 22s 9ms/step - loss: 409.9813 - val_loss: 411.9374\n",
      "Epoch 12/100\n",
      "2293/2293 [==============================] - 20s 9ms/step - loss: 399.2303 - val_loss: 395.5585\n",
      "Epoch 13/100\n",
      "2293/2293 [==============================] - 24s 10ms/step - loss: 385.0421 - val_loss: 401.2271\n",
      "Epoch 14/100\n",
      "2293/2293 [==============================] - 23s 10ms/step - loss: 382.2811 - val_loss: 383.7592\n",
      "Epoch 15/100\n",
      "2293/2293 [==============================] - 29s 13ms/step - loss: 373.8421 - val_loss: 402.4480\n",
      "Epoch 16/100\n",
      "2293/2293 [==============================] - 22s 10ms/step - loss: 373.1665 - val_loss: 396.5616\n",
      "Epoch 17/100\n",
      "2293/2293 [==============================] - 24s 10ms/step - loss: 365.3152 - val_loss: 413.3893\n",
      "Epoch 18/100\n",
      "2293/2293 [==============================] - 23s 10ms/step - loss: 365.2536 - val_loss: 369.3554\n",
      "Epoch 19/100\n",
      "2293/2293 [==============================] - 23s 10ms/step - loss: 361.0129 - val_loss: 393.2432\n",
      "Epoch 20/100\n",
      "2293/2293 [==============================] - 22s 9ms/step - loss: 357.0192 - val_loss: 364.0147\n",
      "Epoch 21/100\n",
      "2293/2293 [==============================] - 21s 9ms/step - loss: 355.2648 - val_loss: 362.3698\n",
      "Epoch 22/100\n",
      "2293/2293 [==============================] - 18s 8ms/step - loss: 350.6098 - val_loss: 364.5206\n",
      "Epoch 23/100\n",
      "2293/2293 [==============================] - 20s 9ms/step - loss: 345.0930 - val_loss: 362.3946\n",
      "Epoch 24/100\n",
      "2293/2293 [==============================] - 21s 9ms/step - loss: 343.1638 - val_loss: 349.8145\n",
      "Epoch 25/100\n",
      "2293/2293 [==============================] - 19s 8ms/step - loss: 336.7405 - val_loss: 344.5294\n",
      "Epoch 26/100\n",
      "2293/2293 [==============================] - 21s 9ms/step - loss: 328.0515 - val_loss: 333.5134\n",
      "Epoch 27/100\n",
      "2293/2293 [==============================] - 20s 9ms/step - loss: 322.7638 - val_loss: 344.0949\n",
      "Epoch 28/100\n",
      "2293/2293 [==============================] - 21s 9ms/step - loss: 316.4154 - val_loss: 335.5977\n",
      "Epoch 29/100\n",
      "2293/2293 [==============================] - 19s 8ms/step - loss: 313.7656 - val_loss: 327.1139\n",
      "Epoch 30/100\n",
      "2293/2293 [==============================] - 19s 8ms/step - loss: 312.6568 - val_loss: 329.8110\n",
      "Epoch 31/100\n",
      "2293/2293 [==============================] - 19s 8ms/step - loss: 309.9249 - val_loss: 334.5569\n",
      "Epoch 32/100\n",
      "2293/2293 [==============================] - 20s 9ms/step - loss: 308.6342 - val_loss: 316.5410\n",
      "Epoch 33/100\n",
      "2293/2293 [==============================] - 22s 9ms/step - loss: 302.3133 - val_loss: 317.7728\n",
      "Epoch 34/100\n",
      "2293/2293 [==============================] - 18s 8ms/step - loss: 301.0770 - val_loss: 319.8633\n",
      "Epoch 35/100\n",
      "2293/2293 [==============================] - 18s 8ms/step - loss: 299.3920 - val_loss: 319.6157\n",
      "Epoch 36/100\n",
      "2293/2293 [==============================] - 21s 9ms/step - loss: 299.8417 - val_loss: 331.1995\n",
      "Epoch 37/100\n",
      "2293/2293 [==============================] - 18s 8ms/step - loss: 295.5058 - val_loss: 301.8746\n",
      "Epoch 38/100\n",
      "2293/2293 [==============================] - 21s 9ms/step - loss: 294.4126 - val_loss: 312.7803\n",
      "Epoch 39/100\n",
      "2293/2293 [==============================] - 20s 9ms/step - loss: 293.9721 - val_loss: 311.8096\n",
      "Epoch 40/100\n",
      "2293/2293 [==============================] - 20s 9ms/step - loss: 293.2054 - val_loss: 311.4502\n",
      "Epoch 41/100\n",
      "2293/2293 [==============================] - 20s 9ms/step - loss: 292.7381 - val_loss: 305.8010\n",
      "Epoch 42/100\n",
      "2293/2293 [==============================] - 21s 9ms/step - loss: 291.4917 - val_loss: 309.0834\n",
      "Epoch 43/100\n",
      "2293/2293 [==============================] - 21s 9ms/step - loss: 291.3465 - val_loss: 316.0673\n",
      "Epoch 44/100\n",
      "2293/2293 [==============================] - 19s 8ms/step - loss: 291.3593 - val_loss: 302.8364\n",
      "Epoch 45/100\n",
      "2293/2293 [==============================] - 20s 9ms/step - loss: 287.8815 - val_loss: 316.4914\n",
      "Epoch 46/100\n",
      "2293/2293 [==============================] - 19s 8ms/step - loss: 288.5528 - val_loss: 304.4035\n",
      "Epoch 47/100\n",
      "2293/2293 [==============================] - 20s 9ms/step - loss: 288.2074 - val_loss: 335.1595\n",
      "Epoch 48/100\n",
      "2293/2293 [==============================] - 22s 10ms/step - loss: 287.1353 - val_loss: 306.7505\n",
      "Epoch 49/100\n",
      "2293/2293 [==============================] - 18s 8ms/step - loss: 286.2638 - val_loss: 307.7512\n",
      "Epoch 50/100\n",
      "2293/2293 [==============================] - 20s 9ms/step - loss: 285.1984 - val_loss: 299.5508\n",
      "Epoch 51/100\n",
      "2293/2293 [==============================] - 21s 9ms/step - loss: 283.8870 - val_loss: 300.4661\n",
      "Epoch 52/100\n",
      "2293/2293 [==============================] - 20s 9ms/step - loss: 285.2834 - val_loss: 297.4689\n",
      "Epoch 53/100\n",
      "2293/2293 [==============================] - 21s 9ms/step - loss: 282.7741 - val_loss: 298.0386\n",
      "Epoch 54/100\n",
      "2293/2293 [==============================] - 21s 9ms/step - loss: 283.3940 - val_loss: 309.9099\n",
      "Epoch 55/100\n",
      "2293/2293 [==============================] - 20s 9ms/step - loss: 282.3054 - val_loss: 303.4982\n",
      "Epoch 56/100\n",
      "2293/2293 [==============================] - 21s 9ms/step - loss: 283.2537 - val_loss: 322.9438\n",
      "Epoch 57/100\n",
      "2293/2293 [==============================] - 21s 9ms/step - loss: 281.7192 - val_loss: 325.3707\n",
      "Epoch 58/100\n",
      "2293/2293 [==============================] - 19s 8ms/step - loss: 280.3299 - val_loss: 308.8968\n",
      "Epoch 59/100\n",
      "2293/2293 [==============================] - 19s 8ms/step - loss: 280.4903 - val_loss: 296.8641\n",
      "Epoch 60/100\n",
      "2293/2293 [==============================] - 21s 9ms/step - loss: 278.7280 - val_loss: 296.6462\n",
      "Epoch 61/100\n",
      "2293/2293 [==============================] - 19s 8ms/step - loss: 279.4722 - val_loss: 295.1129\n",
      "Epoch 62/100\n",
      "2293/2293 [==============================] - 20s 9ms/step - loss: 277.1270 - val_loss: 296.6307\n",
      "Epoch 63/100\n",
      "2293/2293 [==============================] - 21s 9ms/step - loss: 277.9762 - val_loss: 290.0708\n",
      "Epoch 64/100\n",
      "2293/2293 [==============================] - 18s 8ms/step - loss: 276.7415 - val_loss: 291.9198\n",
      "Epoch 65/100\n",
      "2293/2293 [==============================] - 20s 9ms/step - loss: 275.7122 - val_loss: 299.2043\n",
      "Epoch 66/100\n",
      "2293/2293 [==============================] - 20s 9ms/step - loss: 276.9274 - val_loss: 300.8333\n",
      "Epoch 67/100\n",
      "2293/2293 [==============================] - 20s 9ms/step - loss: 276.0544 - val_loss: 296.6593\n",
      "Epoch 68/100\n",
      "2293/2293 [==============================] - 20s 9ms/step - loss: 276.1102 - val_loss: 299.9913\n",
      "Epoch 69/100\n",
      "2293/2293 [==============================] - 20s 9ms/step - loss: 275.4620 - val_loss: 293.6924\n",
      "Epoch 70/100\n",
      "2293/2293 [==============================] - 21s 9ms/step - loss: 275.4048 - val_loss: 298.6707\n",
      "Epoch 71/100\n",
      "2293/2293 [==============================] - 19s 8ms/step - loss: 272.9349 - val_loss: 292.4638\n",
      "Epoch 72/100\n",
      "2293/2293 [==============================] - 21s 9ms/step - loss: 273.7982 - val_loss: 287.0203\n",
      "Epoch 73/100\n",
      "2293/2293 [==============================] - 18s 8ms/step - loss: 275.0579 - val_loss: 289.4621\n",
      "Epoch 74/100\n",
      "2293/2293 [==============================] - 19s 8ms/step - loss: 272.6562 - val_loss: 290.7007\n",
      "Epoch 75/100\n",
      "2293/2293 [==============================] - 20s 9ms/step - loss: 272.6507 - val_loss: 290.6903\n",
      "Epoch 76/100\n",
      "2293/2293 [==============================] - 20s 9ms/step - loss: 271.4885 - val_loss: 286.9716\n",
      "Epoch 77/100\n",
      "2293/2293 [==============================] - 18s 8ms/step - loss: 272.5099 - val_loss: 298.9521\n",
      "Epoch 78/100\n",
      "2293/2293 [==============================] - 21s 9ms/step - loss: 270.0923 - val_loss: 286.6755\n",
      "Epoch 79/100\n",
      "2293/2293 [==============================] - 19s 8ms/step - loss: 271.5597 - val_loss: 289.8504\n",
      "Epoch 80/100\n",
      "2293/2293 [==============================] - 20s 9ms/step - loss: 270.2225 - val_loss: 287.0113\n",
      "Epoch 81/100\n",
      "2293/2293 [==============================] - 20s 9ms/step - loss: 272.1545 - val_loss: 290.7484\n",
      "Epoch 82/100\n",
      "2293/2293 [==============================] - 20s 9ms/step - loss: 269.4766 - val_loss: 292.3202\n",
      "Epoch 83/100\n",
      "2293/2293 [==============================] - 20s 9ms/step - loss: 270.7457 - val_loss: 289.0134\n",
      "Epoch 84/100\n",
      "2293/2293 [==============================] - 20s 9ms/step - loss: 268.1200 - val_loss: 298.2957\n",
      "Epoch 85/100\n",
      "2293/2293 [==============================] - 20s 9ms/step - loss: 268.8913 - val_loss: 290.3313\n",
      "Epoch 86/100\n",
      "2293/2293 [==============================] - 17s 8ms/step - loss: 269.1693 - val_loss: 297.6638\n",
      "Epoch 87/100\n",
      "2293/2293 [==============================] - 20s 9ms/step - loss: 267.0949 - val_loss: 298.2239\n",
      "Epoch 88/100\n",
      "2293/2293 [==============================] - 18s 8ms/step - loss: 267.9052 - val_loss: 285.5997\n",
      "Epoch 89/100\n",
      "2293/2293 [==============================] - 18s 8ms/step - loss: 266.5204 - val_loss: 297.1427\n",
      "Epoch 90/100\n",
      "2293/2293 [==============================] - 20s 9ms/step - loss: 268.1115 - val_loss: 297.2831\n",
      "Epoch 91/100\n",
      "2293/2293 [==============================] - 21s 9ms/step - loss: 267.4502 - val_loss: 287.8596\n",
      "Epoch 92/100\n",
      "2293/2293 [==============================] - 19s 8ms/step - loss: 268.0143 - val_loss: 304.4566\n",
      "Epoch 93/100\n",
      "2293/2293 [==============================] - 21s 9ms/step - loss: 265.4883 - val_loss: 296.3488\n",
      "Epoch 94/100\n",
      "2293/2293 [==============================] - 20s 9ms/step - loss: 266.6185 - val_loss: 288.5009\n",
      "Epoch 95/100\n",
      "2293/2293 [==============================] - 20s 9ms/step - loss: 265.4572 - val_loss: 297.1076\n",
      "Epoch 96/100\n",
      "2293/2293 [==============================] - 22s 9ms/step - loss: 265.0214 - val_loss: 285.3508\n",
      "Epoch 97/100\n",
      "2293/2293 [==============================] - 22s 10ms/step - loss: 265.4082 - val_loss: 297.0518\n",
      "Epoch 98/100\n",
      "2293/2293 [==============================] - 18s 8ms/step - loss: 266.0853 - val_loss: 291.9295\n",
      "Epoch 99/100\n",
      "2293/2293 [==============================] - 19s 8ms/step - loss: 264.0500 - val_loss: 295.1574\n",
      "Epoch 100/100\n",
      "2293/2293 [==============================] - 19s 8ms/step - loss: 264.7182 - val_loss: 287.4270\n"
     ]
    }
   ],
   "source": [
    "history = model.fit(\n",
    "    X_train, y_train,\n",
    "    validation_split = 0.15,\n",
    "    batch_size=15,\n",
    "    epochs=100,\n",
    ")"
   ]
  },
  {
   "cell_type": "code",
   "execution_count": 13,
   "id": "68bb42eb-b312-4352-8f05-c6a356de9e92",
   "metadata": {},
   "outputs": [
    {
     "data": {
      "image/png": "[encoded data removed]",
      "text/plain": [
       "<Figure size 640x480 with 1 Axes>"
      ]
     },
     "metadata": {},
     "output_type": "display_data"
    }
   ],
   "source": [
    "history_df = pd.DataFrame(history.history)\n",
    "# Start the plot at epoch 1. You can change this to get a different view.\n",
    "history_df.loc[1:, ['loss']].plot();"
   ]
  },
  {
   "cell_type": "code",
   "execution_count": null,
   "id": "5f04edfe-d883-47d6-8062-5f957bafd603",
   "metadata": {},
   "outputs": [],
   "source": []
  }
 ],
 "metadata": {
  "kernelspec": {
   "display_name": "d2l:Python",
   "language": "python",
   "name": "conda-env-d2l-py"
  },
  "language_info": {
   "codemirror_mode": {
    "name": "ipython",
    "version": 3
   },
   "file_extension": ".py",
   "mimetype": "text/x-python",
   "name": "python",
   "nbconvert_exporter": "python",
   "pygments_lexer": "ipython3",
   "version": "3.9.13"
  }
 },
 "nbformat": 4,
 "nbformat_minor": 5
}
