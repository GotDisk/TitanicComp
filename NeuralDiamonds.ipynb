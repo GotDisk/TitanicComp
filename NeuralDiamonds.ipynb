{
 "cells": [
  {
   "cell_type": "code",
   "execution_count": 1,
   "id": "7375d6e9-fe3d-417a-a30e-9f8320629749",
   "metadata": {},
   "outputs": [
    {
     "name": "stderr",
     "output_type": "stream",
     "text": [
      "2022-10-12 22:40:52.674602: I tensorflow/core/platform/cpu_feature_guard.cc:193] This TensorFlow binary is optimized with oneAPI Deep Neural Network Library (oneDNN) to use the following CPU instructions in performance-critical operations:  AVX2 AVX512F FMA\n",
      "To enable them in other operations, rebuild TensorFlow with the appropriate compiler flags.\n",
      "2022-10-12 22:40:52.924712: W tensorflow/stream_executor/platform/default/dso_loader.cc:64] Could not load dynamic library 'libcudart.so.11.0'; dlerror: libcudart.so.11.0: cannot open shared object file: No such file or directory\n",
      "2022-10-12 22:40:52.924756: I tensorflow/stream_executor/cuda/cudart_stub.cc:29] Ignore above cudart dlerror if you do not have a GPU set up on your machine.\n",
      "2022-10-12 22:40:52.966442: E tensorflow/stream_executor/cuda/cuda_blas.cc:2981] Unable to register cuBLAS factory: Attempting to register factory for plugin cuBLAS when one has already been registered\n",
      "2022-10-12 22:40:54.186866: W tensorflow/stream_executor/platform/default/dso_loader.cc:64] Could not load dynamic library 'libnvinfer.so.7'; dlerror: libnvinfer.so.7: cannot open shared object file: No such file or directory\n",
      "2022-10-12 22:40:54.187104: W tensorflow/stream_executor/platform/default/dso_loader.cc:64] Could not load dynamic library 'libnvinfer_plugin.so.7'; dlerror: libnvinfer_plugin.so.7: cannot open shared object file: No such file or directory\n",
      "2022-10-12 22:40:54.187116: W tensorflow/compiler/tf2tensorrt/utils/py_utils.cc:38] TF-TRT Warning: Cannot dlopen some TensorRT libraries. If you would like to use Nvidia GPU with TensorRT, please make sure the missing libraries mentioned above are installed properly.\n"
     ]
    }
   ],
   "source": [
    "import numpy as np\n",
    "import pandas as pd\n",
    "import keras\n",
    "import sklearn\n",
    "from keras.layers import Dense, Dropout\n",
    "from keras.models import Sequential\n",
    "import matplotlib.pyplot as plt\n",
    "import seaborn as sns\n",
    "from sklearn.model_selection import train_test_split\n",
    "from sklearn.preprocessing import LabelEncoder\n",
    "from keras.metrics import mean_squared_error\n",
    "#plt.style.use('dark_background')\n",
    "import warnings\n",
    "warnings.filterwarnings('ignore')\n",
    "#sns.set(style = 'ticks', context = 'talk')\n",
    "%matplotlib inline"
   ]
  },
  {
   "cell_type": "code",
   "execution_count": 2,
   "id": "9bf0703b-aacc-4f30-8794-e887dced7126",
   "metadata": {},
   "outputs": [
    {
     "data": {
      "text/plain": [
       "Index(['carat', 'cut', 'color', 'clarity', 'depth', 'table', 'price', 'x', 'y',\n",
       "       'z'],\n",
       "      dtype='object')"
      ]
     },
     "execution_count": 2,
     "metadata": {},
     "output_type": "execute_result"
    }
   ],
   "source": [
    "diamond_data_file_path = 'diamonds.csv'\n",
    "diamond_data = pd.read_csv(diamond_data_file_path)\n",
    "#Drop Unnamed column\n",
    "diamond_data = diamond_data.drop('Unnamed: 0', axis=1)\n",
    "diamond_data.columns"
   ]
  },
  {
   "cell_type": "code",
   "execution_count": 3,
   "id": "0a0d3ea7-176d-4ea6-9a3b-2b967a6fed7a",
   "metadata": {},
   "outputs": [
    {
     "data": {
      "text/plain": [
       "carat      float64\n",
       "cut         object\n",
       "color       object\n",
       "clarity     object\n",
       "depth      float64\n",
       "table      float64\n",
       "price        int64\n",
       "x          float64\n",
       "y          float64\n",
       "z          float64\n",
       "dtype: object"
      ]
     },
     "execution_count": 3,
     "metadata": {},
     "output_type": "execute_result"
    }
   ],
   "source": [
    "diamond_data.dtypes"
   ]
  },
  {
   "cell_type": "code",
   "execution_count": 4,
   "id": "bedb43bf-216f-4e5b-852e-dafc72cef110",
   "metadata": {},
   "outputs": [
    {
     "data": {
      "text/plain": [
       "carat      0\n",
       "cut        0\n",
       "color      0\n",
       "clarity    0\n",
       "depth      0\n",
       "table      0\n",
       "price      0\n",
       "x          0\n",
       "y          0\n",
       "z          0\n",
       "dtype: int64"
      ]
     },
     "execution_count": 4,
     "metadata": {},
     "output_type": "execute_result"
    }
   ],
   "source": [
    "diamond_data.isna().sum()"
   ]
  },
  {
   "cell_type": "code",
   "execution_count": 5,
   "id": "03c4bcba-8653-44eb-99e0-6ec81fc3c149",
   "metadata": {},
   "outputs": [
    {
     "data": {
      "text/plain": [
       "carat      float64\n",
       "cut          int64\n",
       "color        int64\n",
       "clarity      int64\n",
       "depth      float64\n",
       "table      float64\n",
       "price        int64\n",
       "x          float64\n",
       "y          float64\n",
       "z          float64\n",
       "dtype: object"
      ]
     },
     "execution_count": 5,
     "metadata": {},
     "output_type": "execute_result"
    }
   ],
   "source": [
    "encoder = LabelEncoder()\n",
    "\n",
    "encoder.fit(diamond_data['cut'])\n",
    "diamond_data['cut'] = encoder.transform(diamond_data['cut'])\n",
    "\n",
    "encoder.fit(diamond_data['color'])\n",
    "diamond_data['color'] = encoder.transform(diamond_data['color'])\n",
    "\n",
    "encoder.fit(diamond_data['clarity'])\n",
    "diamond_data['clarity'] = encoder.transform(diamond_data['clarity'])\n",
    "\n",
    "diamond_data.dtypes"
   ]
  },
  {
   "cell_type": "code",
   "execution_count": 6,
   "id": "b7962eb7-9d25-43c2-bc21-c1cee8bbe563",
   "metadata": {},
   "outputs": [
    {
     "data": {
      "text/html": [
       "<div>\n",
       "<style scoped>\n",
       "    .dataframe tbody tr th:only-of-type {\n",
       "        vertical-align: middle;\n",
       "    }\n",
       "\n",
       "    .dataframe tbody tr th {\n",
       "        vertical-align: top;\n",
       "    }\n",
       "\n",
       "    .dataframe thead th {\n",
       "        text-align: right;\n",
       "    }\n",
       "</style>\n",
       "<table border=\"1\" class=\"dataframe\">\n",
       "  <thead>\n",
       "    <tr style=\"text-align: right;\">\n",
       "      <th></th>\n",
       "      <th>carat</th>\n",
       "      <th>cut</th>\n",
       "      <th>color</th>\n",
       "      <th>clarity</th>\n",
       "      <th>depth</th>\n",
       "      <th>table</th>\n",
       "      <th>price</th>\n",
       "      <th>x</th>\n",
       "      <th>y</th>\n",
       "      <th>z</th>\n",
       "    </tr>\n",
       "  </thead>\n",
       "  <tbody>\n",
       "    <tr>\n",
       "      <th>0</th>\n",
       "      <td>0.23</td>\n",
       "      <td>2</td>\n",
       "      <td>1</td>\n",
       "      <td>3</td>\n",
       "      <td>61.5</td>\n",
       "      <td>55.0</td>\n",
       "      <td>326</td>\n",
       "      <td>3.95</td>\n",
       "      <td>3.98</td>\n",
       "      <td>2.43</td>\n",
       "    </tr>\n",
       "    <tr>\n",
       "      <th>1</th>\n",
       "      <td>0.21</td>\n",
       "      <td>3</td>\n",
       "      <td>1</td>\n",
       "      <td>2</td>\n",
       "      <td>59.8</td>\n",
       "      <td>61.0</td>\n",
       "      <td>326</td>\n",
       "      <td>3.89</td>\n",
       "      <td>3.84</td>\n",
       "      <td>2.31</td>\n",
       "    </tr>\n",
       "    <tr>\n",
       "      <th>2</th>\n",
       "      <td>0.23</td>\n",
       "      <td>1</td>\n",
       "      <td>1</td>\n",
       "      <td>4</td>\n",
       "      <td>56.9</td>\n",
       "      <td>65.0</td>\n",
       "      <td>327</td>\n",
       "      <td>4.05</td>\n",
       "      <td>4.07</td>\n",
       "      <td>2.31</td>\n",
       "    </tr>\n",
       "    <tr>\n",
       "      <th>3</th>\n",
       "      <td>0.29</td>\n",
       "      <td>3</td>\n",
       "      <td>5</td>\n",
       "      <td>5</td>\n",
       "      <td>62.4</td>\n",
       "      <td>58.0</td>\n",
       "      <td>334</td>\n",
       "      <td>4.20</td>\n",
       "      <td>4.23</td>\n",
       "      <td>2.63</td>\n",
       "    </tr>\n",
       "    <tr>\n",
       "      <th>4</th>\n",
       "      <td>0.31</td>\n",
       "      <td>1</td>\n",
       "      <td>6</td>\n",
       "      <td>3</td>\n",
       "      <td>63.3</td>\n",
       "      <td>58.0</td>\n",
       "      <td>335</td>\n",
       "      <td>4.34</td>\n",
       "      <td>4.35</td>\n",
       "      <td>2.75</td>\n",
       "    </tr>\n",
       "  </tbody>\n",
       "</table>\n",
       "</div>"
      ],
      "text/plain": [
       "   carat  cut  color  clarity  depth  table  price     x     y     z\n",
       "0   0.23    2      1        3   61.5   55.0    326  3.95  3.98  2.43\n",
       "1   0.21    3      1        2   59.8   61.0    326  3.89  3.84  2.31\n",
       "2   0.23    1      1        4   56.9   65.0    327  4.05  4.07  2.31\n",
       "3   0.29    3      5        5   62.4   58.0    334  4.20  4.23  2.63\n",
       "4   0.31    1      6        3   63.3   58.0    335  4.34  4.35  2.75"
      ]
     },
     "execution_count": 6,
     "metadata": {},
     "output_type": "execute_result"
    }
   ],
   "source": [
    "diamond_data.head()"
   ]
  },
  {
   "cell_type": "code",
   "execution_count": 7,
   "id": "9d70708e-3db7-4b1a-a958-360e400fe0e4",
   "metadata": {},
   "outputs": [],
   "source": [
    "X = diamond_data.drop(['price'], axis = 1)\n",
    "y = diamond_data['price']"
   ]
  },
  {
   "cell_type": "code",
   "execution_count": 8,
   "id": "5c4a49e8-9724-41f2-abee-d6262407bc84",
   "metadata": {},
   "outputs": [],
   "source": [
    "X_train, X_test, y_train, y_test = train_test_split(X, y)"
   ]
  },
  {
   "cell_type": "code",
   "execution_count": 9,
   "id": "3a0ce41a-124f-4ee5-86a6-906ca4e369b4",
   "metadata": {},
   "outputs": [],
   "source": [
    "X_train = (X_train - X_train.mean()) / X_train.std()\n",
    "X_test = (X_test - X_test.mean()) / X_test.std()"
   ]
  },
  {
   "cell_type": "code",
   "execution_count": 10,
   "id": "3d991938-a2e1-4008-8835-c6844cda2e59",
   "metadata": {},
   "outputs": [
    {
     "name": "stderr",
     "output_type": "stream",
     "text": [
      "2022-10-12 22:40:58.109054: W tensorflow/stream_executor/platform/default/dso_loader.cc:64] Could not load dynamic library 'libcuda.so.1'; dlerror: libcuda.so.1: cannot open shared object file: No such file or directory\n",
      "2022-10-12 22:40:58.109358: W tensorflow/stream_executor/cuda/cuda_driver.cc:263] failed call to cuInit: UNKNOWN ERROR (303)\n",
      "2022-10-12 22:40:58.109399: I tensorflow/stream_executor/cuda/cuda_diagnostics.cc:156] kernel driver does not appear to be running on this host (default): /proc/driver/nvidia/version does not exist\n",
      "2022-10-12 22:40:58.109713: I tensorflow/core/platform/cpu_feature_guard.cc:193] This TensorFlow binary is optimized with oneAPI Deep Neural Network Library (oneDNN) to use the following CPU instructions in performance-critical operations:  AVX2 AVX512F FMA\n",
      "To enable them in other operations, rebuild TensorFlow with the appropriate compiler flags.\n"
     ]
    }
   ],
   "source": [
    "model = keras.Sequential([\n",
    "    keras.layers.Dense(128, activation='relu', input_shape=[9]),\n",
    "    keras.layers.Dense(128, activation='relu'),    \n",
    "    keras.layers.Dense(64, activation='relu'),\n",
    "    keras.layers.Dense(1),\n",
    "])"
   ]
  },
  {
   "cell_type": "code",
   "execution_count": 11,
   "id": "12fa3c62-4192-444c-b10f-3ca7f323c1a3",
   "metadata": {},
   "outputs": [],
   "source": [
    "model.compile(\n",
    "    optimizer=\"adam\",\n",
    "    loss=\"mae\",\n",
    ")"
   ]
  },
  {
   "cell_type": "code",
   "execution_count": 12,
   "id": "bdeeb2e1-94c9-43f4-a71b-489034b5da54",
   "metadata": {},
   "outputs": [
    {
     "name": "stdout",
     "output_type": "stream",
     "text": [
      "Epoch 1/50\n",
      "317/317 [==============================] - 2s 5ms/step - loss: 2017.8278\n",
      "Epoch 2/50\n",
      "317/317 [==============================] - 2s 6ms/step - loss: 688.2548\n",
      "Epoch 3/50\n",
      "317/317 [==============================] - 2s 5ms/step - loss: 621.0374\n",
      "Epoch 4/50\n",
      "317/317 [==============================] - 1s 5ms/step - loss: 572.3669\n",
      "Epoch 5/50\n",
      "317/317 [==============================] - 1s 4ms/step - loss: 545.5759\n",
      "Epoch 6/50\n",
      "317/317 [==============================] - 1s 5ms/step - loss: 527.3805\n",
      "Epoch 7/50\n",
      "317/317 [==============================] - 2s 6ms/step - loss: 514.2391\n",
      "Epoch 8/50\n",
      "317/317 [==============================] - 1s 4ms/step - loss: 504.6588\n",
      "Epoch 9/50\n",
      "317/317 [==============================] - 1s 4ms/step - loss: 496.3173\n",
      "Epoch 10/50\n",
      "317/317 [==============================] - 1s 4ms/step - loss: 488.7314\n",
      "Epoch 11/50\n",
      "317/317 [==============================] - 2s 7ms/step - loss: 482.6485\n",
      "Epoch 12/50\n",
      "317/317 [==============================] - 2s 6ms/step - loss: 476.0595\n",
      "Epoch 13/50\n",
      "317/317 [==============================] - 2s 5ms/step - loss: 471.8980\n",
      "Epoch 14/50\n",
      "317/317 [==============================] - 1s 4ms/step - loss: 466.2452\n",
      "Epoch 15/50\n",
      "317/317 [==============================] - 2s 6ms/step - loss: 462.8831\n",
      "Epoch 16/50\n",
      "317/317 [==============================] - 1s 4ms/step - loss: 459.1678\n",
      "Epoch 17/50\n",
      "317/317 [==============================] - 1s 4ms/step - loss: 455.7911\n",
      "Epoch 18/50\n",
      "317/317 [==============================] - 2s 5ms/step - loss: 449.4261\n",
      "Epoch 19/50\n",
      "317/317 [==============================] - 1s 5ms/step - loss: 446.8018\n",
      "Epoch 20/50\n",
      "317/317 [==============================] - 2s 5ms/step - loss: 442.9930\n",
      "Epoch 21/50\n",
      "317/317 [==============================] - 2s 5ms/step - loss: 440.3454\n",
      "Epoch 22/50\n",
      "317/317 [==============================] - 2s 5ms/step - loss: 436.9259\n",
      "Epoch 23/50\n",
      "317/317 [==============================] - 2s 6ms/step - loss: 434.1325\n",
      "Epoch 24/50\n",
      "317/317 [==============================] - 2s 5ms/step - loss: 431.0045\n",
      "Epoch 25/50\n",
      "317/317 [==============================] - 2s 5ms/step - loss: 427.4295\n",
      "Epoch 26/50\n",
      "317/317 [==============================] - 1s 4ms/step - loss: 424.9058\n",
      "Epoch 27/50\n",
      "317/317 [==============================] - 2s 5ms/step - loss: 421.3244\n",
      "Epoch 28/50\n",
      "317/317 [==============================] - 1s 4ms/step - loss: 418.8258\n",
      "Epoch 29/50\n",
      "317/317 [==============================] - 1s 5ms/step - loss: 415.7837\n",
      "Epoch 30/50\n",
      "317/317 [==============================] - 2s 5ms/step - loss: 412.4400\n",
      "Epoch 31/50\n",
      "317/317 [==============================] - 2s 5ms/step - loss: 412.2173\n",
      "Epoch 32/50\n",
      "317/317 [==============================] - 2s 6ms/step - loss: 408.6790\n",
      "Epoch 33/50\n",
      "317/317 [==============================] - 2s 5ms/step - loss: 407.0131\n",
      "Epoch 34/50\n",
      "317/317 [==============================] - 1s 4ms/step - loss: 404.0684\n",
      "Epoch 35/50\n",
      "317/317 [==============================] - 2s 6ms/step - loss: 401.7412\n",
      "Epoch 36/50\n",
      "317/317 [==============================] - 2s 5ms/step - loss: 400.4061\n",
      "Epoch 37/50\n",
      "317/317 [==============================] - 2s 5ms/step - loss: 398.0334\n",
      "Epoch 38/50\n",
      "317/317 [==============================] - 2s 6ms/step - loss: 395.0909\n",
      "Epoch 39/50\n",
      "317/317 [==============================] - 2s 6ms/step - loss: 392.6904\n",
      "Epoch 40/50\n",
      "317/317 [==============================] - 2s 5ms/step - loss: 392.3710\n",
      "Epoch 41/50\n",
      "317/317 [==============================] - 2s 5ms/step - loss: 389.9888\n",
      "Epoch 42/50\n",
      "317/317 [==============================] - 1s 4ms/step - loss: 387.2726\n",
      "Epoch 43/50\n",
      "317/317 [==============================] - 2s 5ms/step - loss: 386.0475\n",
      "Epoch 44/50\n",
      "317/317 [==============================] - 1s 4ms/step - loss: 384.1865\n",
      "Epoch 45/50\n",
      "317/317 [==============================] - 2s 6ms/step - loss: 382.5884\n",
      "Epoch 46/50\n",
      "317/317 [==============================] - 1s 4ms/step - loss: 381.5020\n",
      "Epoch 47/50\n",
      "317/317 [==============================] - 1s 4ms/step - loss: 379.6324\n",
      "Epoch 48/50\n",
      "317/317 [==============================] - 2s 5ms/step - loss: 378.3957\n",
      "Epoch 49/50\n",
      "317/317 [==============================] - 2s 7ms/step - loss: 376.7447\n",
      "Epoch 50/50\n",
      "317/317 [==============================] - 2s 6ms/step - loss: 374.9167\n"
     ]
    }
   ],
   "source": [
    "history = model.fit(\n",
    "    X_train, y_train,\n",
    "    batch_size=128,\n",
    "    epochs=50,\n",
    ")"
   ]
  },
  {
   "cell_type": "code",
   "execution_count": 16,
   "id": "68bb42eb-b312-4352-8f05-c6a356de9e92",
   "metadata": {},
   "outputs": [
    {
     "data": {
      "image/png": "[encoded data removed]",
      "text/plain": [
       "<Figure size 640x480 with 1 Axes>"
      ]
     },
     "metadata": {},
     "output_type": "display_data"
    }
   ],
   "source": [
    "history_df = pd.DataFrame(history.history)\n",
    "# Start the plot at epoch 1. You can change this to get a different view.\n",
    "history_df.loc[1:, ['loss']].plot();"
   ]
  },
  {
   "cell_type": "code",
   "execution_count": null,
   "id": "5f04edfe-d883-47d6-8062-5f957bafd603",
   "metadata": {},
   "outputs": [],
   "source": []
  }
 ],
 "metadata": {
  "kernelspec": {
   "display_name": "d2l:Python",
   "language": "python",
   "name": "conda-env-d2l-py"
  },
  "language_info": {
   "codemirror_mode": {
    "name": "ipython",
    "version": 3
   },
   "file_extension": ".py",
   "mimetype": "text/x-python",
   "name": "python",
   "nbconvert_exporter": "python",
   "pygments_lexer": "ipython3",
   "version": "3.9.13"
  }
 },
 "nbformat": 4,
 "nbformat_minor": 5
}
