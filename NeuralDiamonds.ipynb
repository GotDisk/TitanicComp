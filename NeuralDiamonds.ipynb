{
 "cells": [
  {
   "cell_type": "code",
   "execution_count": 1,
   "id": "7375d6e9-fe3d-417a-a30e-9f8320629749",
   "metadata": {},
   "outputs": [
    {
     "name": "stderr",
     "output_type": "stream",
     "text": [
      "2022-10-13 00:20:37.117522: I tensorflow/core/platform/cpu_feature_guard.cc:193] This TensorFlow binary is optimized with oneAPI Deep Neural Network Library (oneDNN) to use the following CPU instructions in performance-critical operations:  AVX2 AVX512F FMA\n",
      "To enable them in other operations, rebuild TensorFlow with the appropriate compiler flags.\n",
      "2022-10-13 00:20:37.614830: W tensorflow/stream_executor/platform/default/dso_loader.cc:64] Could not load dynamic library 'libcudart.so.11.0'; dlerror: libcudart.so.11.0: cannot open shared object file: No such file or directory\n",
      "2022-10-13 00:20:37.614865: I tensorflow/stream_executor/cuda/cudart_stub.cc:29] Ignore above cudart dlerror if you do not have a GPU set up on your machine.\n",
      "2022-10-13 00:20:37.680245: E tensorflow/stream_executor/cuda/cuda_blas.cc:2981] Unable to register cuBLAS factory: Attempting to register factory for plugin cuBLAS when one has already been registered\n",
      "2022-10-13 00:20:39.646295: W tensorflow/stream_executor/platform/default/dso_loader.cc:64] Could not load dynamic library 'libnvinfer.so.7'; dlerror: libnvinfer.so.7: cannot open shared object file: No such file or directory\n",
      "2022-10-13 00:20:39.646438: W tensorflow/stream_executor/platform/default/dso_loader.cc:64] Could not load dynamic library 'libnvinfer_plugin.so.7'; dlerror: libnvinfer_plugin.so.7: cannot open shared object file: No such file or directory\n",
      "2022-10-13 00:20:39.646451: W tensorflow/compiler/tf2tensorrt/utils/py_utils.cc:38] TF-TRT Warning: Cannot dlopen some TensorRT libraries. If you would like to use Nvidia GPU with TensorRT, please make sure the missing libraries mentioned above are installed properly.\n"
     ]
    }
   ],
   "source": [
    "import numpy as np\n",
    "import pandas as pd\n",
    "import keras\n",
    "import sklearn\n",
    "from keras.layers import Dense, Dropout\n",
    "from keras.models import Sequential\n",
    "import matplotlib.pyplot as plt\n",
    "import seaborn as sns\n",
    "from sklearn.model_selection import train_test_split\n",
    "from sklearn.preprocessing import LabelEncoder\n",
    "from keras.metrics import mean_squared_error\n",
    "#plt.style.use('dark_background')\n",
    "import warnings\n",
    "warnings.filterwarnings('ignore')\n",
    "#sns.set(style = 'ticks', context = 'talk')\n",
    "%matplotlib inline"
   ]
  },
  {
   "cell_type": "code",
   "execution_count": 2,
   "id": "9bf0703b-aacc-4f30-8794-e887dced7126",
   "metadata": {},
   "outputs": [
    {
     "data": {
      "text/plain": [
       "Index(['carat', 'cut', 'color', 'clarity', 'depth', 'table', 'price', 'x', 'y',\n",
       "       'z'],\n",
       "      dtype='object')"
      ]
     },
     "execution_count": 2,
     "metadata": {},
     "output_type": "execute_result"
    }
   ],
   "source": [
    "diamond_data_file_path = 'diamonds.csv'\n",
    "diamond_data = pd.read_csv(diamond_data_file_path)\n",
    "#Drop Unnamed column\n",
    "diamond_data = diamond_data.drop('Unnamed: 0', axis=1)\n",
    "diamond_data.columns"
   ]
  },
  {
   "cell_type": "code",
   "execution_count": 3,
   "id": "0a0d3ea7-176d-4ea6-9a3b-2b967a6fed7a",
   "metadata": {},
   "outputs": [
    {
     "data": {
      "text/plain": [
       "carat      float64\n",
       "cut         object\n",
       "color       object\n",
       "clarity     object\n",
       "depth      float64\n",
       "table      float64\n",
       "price        int64\n",
       "x          float64\n",
       "y          float64\n",
       "z          float64\n",
       "dtype: object"
      ]
     },
     "execution_count": 3,
     "metadata": {},
     "output_type": "execute_result"
    }
   ],
   "source": [
    "diamond_data.dtypes"
   ]
  },
  {
   "cell_type": "code",
   "execution_count": 4,
   "id": "bedb43bf-216f-4e5b-852e-dafc72cef110",
   "metadata": {},
   "outputs": [
    {
     "data": {
      "text/plain": [
       "carat      0\n",
       "cut        0\n",
       "color      0\n",
       "clarity    0\n",
       "depth      0\n",
       "table      0\n",
       "price      0\n",
       "x          0\n",
       "y          0\n",
       "z          0\n",
       "dtype: int64"
      ]
     },
     "execution_count": 4,
     "metadata": {},
     "output_type": "execute_result"
    }
   ],
   "source": [
    "diamond_data.isna().sum()"
   ]
  },
  {
   "cell_type": "code",
   "execution_count": 5,
   "id": "03c4bcba-8653-44eb-99e0-6ec81fc3c149",
   "metadata": {},
   "outputs": [
    {
     "data": {
      "text/plain": [
       "carat      float64\n",
       "cut          int64\n",
       "color        int64\n",
       "clarity      int64\n",
       "depth      float64\n",
       "table      float64\n",
       "price        int64\n",
       "x          float64\n",
       "y          float64\n",
       "z          float64\n",
       "dtype: object"
      ]
     },
     "execution_count": 5,
     "metadata": {},
     "output_type": "execute_result"
    }
   ],
   "source": [
    "encoder = LabelEncoder()\n",
    "\n",
    "encoder.fit(diamond_data['cut'])\n",
    "diamond_data['cut'] = encoder.transform(diamond_data['cut'])\n",
    "\n",
    "encoder.fit(diamond_data['color'])\n",
    "diamond_data['color'] = encoder.transform(diamond_data['color'])\n",
    "\n",
    "encoder.fit(diamond_data['clarity'])\n",
    "diamond_data['clarity'] = encoder.transform(diamond_data['clarity'])\n",
    "\n",
    "diamond_data.dtypes"
   ]
  },
  {
   "cell_type": "code",
   "execution_count": 6,
   "id": "b7962eb7-9d25-43c2-bc21-c1cee8bbe563",
   "metadata": {},
   "outputs": [
    {
     "data": {
      "text/html": [
       "<div>\n",
       "<style scoped>\n",
       "    .dataframe tbody tr th:only-of-type {\n",
       "        vertical-align: middle;\n",
       "    }\n",
       "\n",
       "    .dataframe tbody tr th {\n",
       "        vertical-align: top;\n",
       "    }\n",
       "\n",
       "    .dataframe thead th {\n",
       "        text-align: right;\n",
       "    }\n",
       "</style>\n",
       "<table border=\"1\" class=\"dataframe\">\n",
       "  <thead>\n",
       "    <tr style=\"text-align: right;\">\n",
       "      <th></th>\n",
       "      <th>carat</th>\n",
       "      <th>cut</th>\n",
       "      <th>color</th>\n",
       "      <th>clarity</th>\n",
       "      <th>depth</th>\n",
       "      <th>table</th>\n",
       "      <th>price</th>\n",
       "      <th>x</th>\n",
       "      <th>y</th>\n",
       "      <th>z</th>\n",
       "    </tr>\n",
       "  </thead>\n",
       "  <tbody>\n",
       "    <tr>\n",
       "      <th>0</th>\n",
       "      <td>0.23</td>\n",
       "      <td>2</td>\n",
       "      <td>1</td>\n",
       "      <td>3</td>\n",
       "      <td>61.5</td>\n",
       "      <td>55.0</td>\n",
       "      <td>326</td>\n",
       "      <td>3.95</td>\n",
       "      <td>3.98</td>\n",
       "      <td>2.43</td>\n",
       "    </tr>\n",
       "    <tr>\n",
       "      <th>1</th>\n",
       "      <td>0.21</td>\n",
       "      <td>3</td>\n",
       "      <td>1</td>\n",
       "      <td>2</td>\n",
       "      <td>59.8</td>\n",
       "      <td>61.0</td>\n",
       "      <td>326</td>\n",
       "      <td>3.89</td>\n",
       "      <td>3.84</td>\n",
       "      <td>2.31</td>\n",
       "    </tr>\n",
       "    <tr>\n",
       "      <th>2</th>\n",
       "      <td>0.23</td>\n",
       "      <td>1</td>\n",
       "      <td>1</td>\n",
       "      <td>4</td>\n",
       "      <td>56.9</td>\n",
       "      <td>65.0</td>\n",
       "      <td>327</td>\n",
       "      <td>4.05</td>\n",
       "      <td>4.07</td>\n",
       "      <td>2.31</td>\n",
       "    </tr>\n",
       "    <tr>\n",
       "      <th>3</th>\n",
       "      <td>0.29</td>\n",
       "      <td>3</td>\n",
       "      <td>5</td>\n",
       "      <td>5</td>\n",
       "      <td>62.4</td>\n",
       "      <td>58.0</td>\n",
       "      <td>334</td>\n",
       "      <td>4.20</td>\n",
       "      <td>4.23</td>\n",
       "      <td>2.63</td>\n",
       "    </tr>\n",
       "    <tr>\n",
       "      <th>4</th>\n",
       "      <td>0.31</td>\n",
       "      <td>1</td>\n",
       "      <td>6</td>\n",
       "      <td>3</td>\n",
       "      <td>63.3</td>\n",
       "      <td>58.0</td>\n",
       "      <td>335</td>\n",
       "      <td>4.34</td>\n",
       "      <td>4.35</td>\n",
       "      <td>2.75</td>\n",
       "    </tr>\n",
       "  </tbody>\n",
       "</table>\n",
       "</div>"
      ],
      "text/plain": [
       "   carat  cut  color  clarity  depth  table  price     x     y     z\n",
       "0   0.23    2      1        3   61.5   55.0    326  3.95  3.98  2.43\n",
       "1   0.21    3      1        2   59.8   61.0    326  3.89  3.84  2.31\n",
       "2   0.23    1      1        4   56.9   65.0    327  4.05  4.07  2.31\n",
       "3   0.29    3      5        5   62.4   58.0    334  4.20  4.23  2.63\n",
       "4   0.31    1      6        3   63.3   58.0    335  4.34  4.35  2.75"
      ]
     },
     "execution_count": 6,
     "metadata": {},
     "output_type": "execute_result"
    }
   ],
   "source": [
    "diamond_data.head()"
   ]
  },
  {
   "cell_type": "code",
   "execution_count": 7,
   "id": "9d70708e-3db7-4b1a-a958-360e400fe0e4",
   "metadata": {},
   "outputs": [],
   "source": [
    "X = diamond_data.drop(['price'], axis = 1)\n",
    "y = diamond_data['price']"
   ]
  },
  {
   "cell_type": "code",
   "execution_count": 8,
   "id": "5c4a49e8-9724-41f2-abee-d6262407bc84",
   "metadata": {},
   "outputs": [],
   "source": [
    "X_train, X_test, y_train, y_test = train_test_split(X, y)"
   ]
  },
  {
   "cell_type": "code",
   "execution_count": 9,
   "id": "3a0ce41a-124f-4ee5-86a6-906ca4e369b4",
   "metadata": {},
   "outputs": [],
   "source": [
    "X_train = (X_train - X_train.mean()) / X_train.std()\n",
    "X_test = (X_test - X_test.mean()) / X_test.std()"
   ]
  },
  {
   "cell_type": "code",
   "execution_count": 10,
   "id": "3d991938-a2e1-4008-8835-c6844cda2e59",
   "metadata": {},
   "outputs": [
    {
     "name": "stderr",
     "output_type": "stream",
     "text": [
      "2022-10-13 00:20:43.656767: W tensorflow/stream_executor/platform/default/dso_loader.cc:64] Could not load dynamic library 'libcuda.so.1'; dlerror: libcuda.so.1: cannot open shared object file: No such file or directory\n",
      "2022-10-13 00:20:43.656834: W tensorflow/stream_executor/cuda/cuda_driver.cc:263] failed call to cuInit: UNKNOWN ERROR (303)\n",
      "2022-10-13 00:20:43.656919: I tensorflow/stream_executor/cuda/cuda_diagnostics.cc:156] kernel driver does not appear to be running on this host (default): /proc/driver/nvidia/version does not exist\n",
      "2022-10-13 00:20:43.657426: I tensorflow/core/platform/cpu_feature_guard.cc:193] This TensorFlow binary is optimized with oneAPI Deep Neural Network Library (oneDNN) to use the following CPU instructions in performance-critical operations:  AVX2 AVX512F FMA\n",
      "To enable them in other operations, rebuild TensorFlow with the appropriate compiler flags.\n"
     ]
    }
   ],
   "source": [
    "model = keras.Sequential([\n",
    "    keras.layers.Dense(100, activation='relu', input_shape=[9]),\n",
    "    keras.layers.Dense(80, activation='relu'), \n",
    "    keras.layers.Dense(90, activation='relu'),\n",
    "    keras.layers.Dense(64, activation='relu'),\n",
    "    keras.layers.Dense(1),\n",
    "])"
   ]
  },
  {
   "cell_type": "code",
   "execution_count": 11,
   "id": "12fa3c62-4192-444c-b10f-3ca7f323c1a3",
   "metadata": {},
   "outputs": [],
   "source": [
    "model.compile(\n",
    "    optimizer=\"adam\",\n",
    "    loss=\"mae\",\n",
    ")"
   ]
  },
  {
   "cell_type": "code",
   "execution_count": null,
   "id": "bdeeb2e1-94c9-43f4-a71b-489034b5da54",
   "metadata": {},
   "outputs": [
    {
     "name": "stdout",
     "output_type": "stream",
     "text": [
      "Epoch 1/100\n",
      "2293/2293 [==============================] - 23s 10ms/step - loss: 769.7400 - val_loss: 548.4036\n",
      "Epoch 2/100\n",
      "2293/2293 [==============================] - 19s 8ms/step - loss: 530.8519 - val_loss: 520.0085\n",
      "Epoch 3/100\n",
      "2293/2293 [==============================] - 18s 8ms/step - loss: 511.8344 - val_loss: 503.2614\n",
      "Epoch 4/100\n",
      "2293/2293 [==============================] - 18s 8ms/step - loss: 493.6656 - val_loss: 486.0573\n",
      "Epoch 5/100\n",
      "2293/2293 [==============================] - 21s 9ms/step - loss: 481.3820 - val_loss: 494.4366\n",
      "Epoch 6/100\n",
      "2293/2293 [==============================] - 19s 8ms/step - loss: 469.7798 - val_loss: 462.5964\n",
      "Epoch 7/100\n",
      "2293/2293 [==============================] - 20s 9ms/step - loss: 453.9272 - val_loss: 470.6058\n",
      "Epoch 8/100\n",
      "2293/2293 [==============================] - 18s 8ms/step - loss: 446.2933 - val_loss: 516.3669\n",
      "Epoch 9/100\n",
      "2293/2293 [==============================] - 17s 7ms/step - loss: 434.6642 - val_loss: 444.7221\n",
      "Epoch 10/100\n",
      "2293/2293 [==============================] - 20s 9ms/step - loss: 419.1361 - val_loss: 404.3407\n",
      "Epoch 11/100\n",
      "2293/2293 [==============================] - 19s 8ms/step - loss: 400.7900 - val_loss: 390.3085\n",
      "Epoch 12/100\n",
      "2293/2293 [==============================] - 17s 8ms/step - loss: 381.7636 - val_loss: 383.3038\n",
      "Epoch 13/100\n",
      "2293/2293 [==============================] - 19s 8ms/step - loss: 372.4539 - val_loss: 372.0728\n",
      "Epoch 14/100\n",
      "2293/2293 [==============================] - 18s 8ms/step - loss: 359.9933 - val_loss: 354.8755\n",
      "Epoch 15/100\n",
      "2293/2293 [==============================] - 19s 8ms/step - loss: 350.1678 - val_loss: 354.3040\n",
      "Epoch 16/100\n",
      "2293/2293 [==============================] - 19s 8ms/step - loss: 340.7299 - val_loss: 359.4704\n",
      "Epoch 17/100\n",
      "2293/2293 [==============================] - 21s 9ms/step - loss: 334.8692 - val_loss: 346.3135\n",
      "Epoch 18/100\n",
      "2293/2293 [==============================] - 18s 8ms/step - loss: 326.7049 - val_loss: 316.1833\n",
      "Epoch 19/100\n",
      "2293/2293 [==============================] - 21s 9ms/step - loss: 324.0993 - val_loss: 324.1235\n",
      "Epoch 20/100\n",
      "2293/2293 [==============================] - 18s 8ms/step - loss: 319.1636 - val_loss: 321.9312\n",
      "Epoch 21/100\n",
      "2293/2293 [==============================] - 20s 9ms/step - loss: 317.7580 - val_loss: 325.2155\n",
      "Epoch 22/100\n",
      "2293/2293 [==============================] - 16s 7ms/step - loss: 313.9026 - val_loss: 318.5262\n",
      "Epoch 23/100\n",
      "2293/2293 [==============================] - 19s 8ms/step - loss: 311.6319 - val_loss: 326.9753\n",
      "Epoch 24/100\n",
      "2293/2293 [==============================] - 18s 8ms/step - loss: 307.4370 - val_loss: 306.4463\n",
      "Epoch 25/100\n",
      "2293/2293 [==============================] - 18s 8ms/step - loss: 304.6121 - val_loss: 297.1694\n",
      "Epoch 26/100\n",
      "2293/2293 [==============================] - 19s 8ms/step - loss: 301.9916 - val_loss: 302.6176\n",
      "Epoch 27/100\n",
      "2293/2293 [==============================] - 20s 9ms/step - loss: 302.1884 - val_loss: 297.9820\n",
      "Epoch 28/100\n",
      "2293/2293 [==============================] - 18s 8ms/step - loss: 300.2175 - val_loss: 305.3089\n",
      "Epoch 29/100\n",
      "2293/2293 [==============================] - 19s 8ms/step - loss: 298.4840 - val_loss: 300.8731\n",
      "Epoch 30/100\n",
      "2293/2293 [==============================] - 18s 8ms/step - loss: 294.1643 - val_loss: 294.3428\n",
      "Epoch 31/100\n",
      "2293/2293 [==============================] - 17s 8ms/step - loss: 296.4610 - val_loss: 296.3864\n",
      "Epoch 32/100\n",
      "2293/2293 [==============================] - 18s 8ms/step - loss: 294.4472 - val_loss: 300.2870\n",
      "Epoch 33/100\n",
      "2293/2293 [==============================] - 18s 8ms/step - loss: 293.4437 - val_loss: 290.4449\n",
      "Epoch 34/100\n",
      "2293/2293 [==============================] - 17s 8ms/step - loss: 291.4755 - val_loss: 308.9106\n",
      "Epoch 35/100\n",
      "2293/2293 [==============================] - 17s 8ms/step - loss: 290.9421 - val_loss: 299.2645\n",
      "Epoch 36/100\n",
      "2293/2293 [==============================] - 20s 9ms/step - loss: 288.6320 - val_loss: 287.0502\n",
      "Epoch 37/100\n",
      "2293/2293 [==============================] - 18s 8ms/step - loss: 289.1438 - val_loss: 295.8515\n",
      "Epoch 38/100\n",
      "2293/2293 [==============================] - 18s 8ms/step - loss: 288.6567 - val_loss: 287.4649\n",
      "Epoch 39/100\n",
      "2293/2293 [==============================] - 17s 8ms/step - loss: 286.1884 - val_loss: 295.3787\n",
      "Epoch 40/100\n",
      "2293/2293 [==============================] - 20s 9ms/step - loss: 287.1686 - val_loss: 295.0821\n",
      "Epoch 41/100\n",
      "2293/2293 [==============================] - 18s 8ms/step - loss: 286.4725 - val_loss: 293.6732\n",
      "Epoch 42/100\n",
      "2293/2293 [==============================] - 17s 8ms/step - loss: 284.4164 - val_loss: 310.8428\n",
      "Epoch 43/100\n",
      "2293/2293 [==============================] - 19s 8ms/step - loss: 283.8375 - val_loss: 297.1273\n",
      "Epoch 44/100\n",
      "2293/2293 [==============================] - 19s 8ms/step - loss: 284.6914 - val_loss: 318.8336\n",
      "Epoch 45/100\n",
      "2293/2293 [==============================] - 20s 9ms/step - loss: 282.7259 - val_loss: 291.9188\n",
      "Epoch 46/100\n",
      "2293/2293 [==============================] - 20s 9ms/step - loss: 282.5734 - val_loss: 319.8126\n",
      "Epoch 47/100\n",
      "2293/2293 [==============================] - 21s 9ms/step - loss: 281.4585 - val_loss: 283.0716\n",
      "Epoch 48/100\n",
      "2293/2293 [==============================] - 18s 8ms/step - loss: 280.1325 - val_loss: 280.0540\n",
      "Epoch 49/100\n",
      "2293/2293 [==============================] - 20s 9ms/step - loss: 281.5724 - val_loss: 302.7421\n",
      "Epoch 50/100\n",
      "2293/2293 [==============================] - 19s 8ms/step - loss: 280.8340 - val_loss: 287.3977\n",
      "Epoch 51/100\n",
      "2293/2293 [==============================] - 14s 6ms/step - loss: 279.7375 - val_loss: 284.0356\n",
      "Epoch 52/100\n",
      "2293/2293 [==============================] - 19s 8ms/step - loss: 280.3549 - val_loss: 290.7261\n",
      "Epoch 53/100\n",
      "2293/2293 [==============================] - 18s 8ms/step - loss: 277.8178 - val_loss: 281.8549\n",
      "Epoch 54/100\n",
      "2293/2293 [==============================] - 16s 7ms/step - loss: 278.4593 - val_loss: 307.7457\n",
      "Epoch 55/100\n",
      "2293/2293 [==============================] - 22s 10ms/step - loss: 277.0104 - val_loss: 291.2302\n",
      "Epoch 56/100\n",
      "2293/2293 [==============================] - 18s 8ms/step - loss: 276.4147 - val_loss: 294.1014\n",
      "Epoch 57/100\n",
      "2293/2293 [==============================] - 22s 10ms/step - loss: 277.4406 - val_loss: 282.0376\n",
      "Epoch 58/100\n",
      "2293/2293 [==============================] - 21s 9ms/step - loss: 277.6039 - val_loss: 286.2357\n",
      "Epoch 59/100\n",
      "2293/2293 [==============================] - 21s 9ms/step - loss: 275.5375 - val_loss: 276.6065\n",
      "Epoch 60/100\n",
      "2293/2293 [==============================] - 21s 9ms/step - loss: 273.8523 - val_loss: 278.8651\n",
      "Epoch 61/100\n",
      "2293/2293 [==============================] - 21s 9ms/step - loss: 276.7942 - val_loss: 285.2380\n",
      "Epoch 62/100\n",
      "2293/2293 [==============================] - 22s 10ms/step - loss: 274.5517 - val_loss: 291.8506\n",
      "Epoch 63/100\n",
      "2293/2293 [==============================] - 22s 9ms/step - loss: 271.9353 - val_loss: 282.8867\n",
      "Epoch 64/100\n",
      "2293/2293 [==============================] - 19s 8ms/step - loss: 273.0841 - val_loss: 281.2287\n",
      "Epoch 65/100\n",
      "2293/2293 [==============================] - 21s 9ms/step - loss: 272.3658 - val_loss: 280.8145\n",
      "Epoch 66/100\n",
      "2293/2293 [==============================] - 26s 11ms/step - loss: 273.2080 - val_loss: 285.0037\n",
      "Epoch 67/100\n",
      "2293/2293 [==============================] - 22s 10ms/step - loss: 273.0446 - val_loss: 282.0056\n",
      "Epoch 68/100\n",
      "2293/2293 [==============================] - 24s 11ms/step - loss: 273.0087 - val_loss: 288.4097\n",
      "Epoch 69/100\n",
      "2293/2293 [==============================] - 23s 10ms/step - loss: 271.5650 - val_loss: 314.2701\n",
      "Epoch 70/100\n",
      "2293/2293 [==============================] - 21s 9ms/step - loss: 270.8369 - val_loss: 285.3158\n",
      "Epoch 71/100\n",
      "2293/2293 [==============================] - 20s 9ms/step - loss: 271.6876 - val_loss: 292.5789\n",
      "Epoch 72/100\n",
      "2293/2293 [==============================] - 21s 9ms/step - loss: 270.7727 - val_loss: 274.4135\n",
      "Epoch 73/100\n",
      "2293/2293 [==============================] - 23s 10ms/step - loss: 269.3977 - val_loss: 276.4630\n",
      "Epoch 74/100\n",
      "2293/2293 [==============================] - 21s 9ms/step - loss: 269.6611 - val_loss: 289.8968\n",
      "Epoch 75/100\n",
      "2293/2293 [==============================] - 21s 9ms/step - loss: 269.6032 - val_loss: 277.0300\n",
      "Epoch 76/100\n",
      "2293/2293 [==============================] - 22s 9ms/step - loss: 269.6991 - val_loss: 300.2595\n",
      "Epoch 77/100\n",
      "2293/2293 [==============================] - 21s 9ms/step - loss: 270.3587 - val_loss: 273.9222\n",
      "Epoch 78/100\n",
      "2293/2293 [==============================] - 23s 10ms/step - loss: 268.0142 - val_loss: 290.0987\n",
      "Epoch 79/100\n",
      "2293/2293 [==============================] - 21s 9ms/step - loss: 268.5640 - val_loss: 275.8924\n",
      "Epoch 80/100\n",
      "2293/2293 [==============================] - 22s 10ms/step - loss: 267.8111 - val_loss: 283.0016\n",
      "Epoch 81/100\n",
      "2293/2293 [==============================] - 21s 9ms/step - loss: 268.6546 - val_loss: 293.9075\n",
      "Epoch 82/100\n",
      "2293/2293 [==============================] - 23s 10ms/step - loss: 267.6005 - val_loss: 282.6416\n",
      "Epoch 83/100\n",
      "2293/2293 [==============================] - 23s 10ms/step - loss: 268.4646 - val_loss: 273.1966\n",
      "Epoch 84/100\n",
      "2293/2293 [==============================] - 21s 9ms/step - loss: 267.9024 - val_loss: 276.4623\n",
      "Epoch 85/100\n",
      "2293/2293 [==============================] - 22s 10ms/step - loss: 267.2895 - val_loss: 278.5318\n",
      "Epoch 86/100\n",
      "2293/2293 [==============================] - 23s 10ms/step - loss: 266.9942 - val_loss: 280.4110\n",
      "Epoch 87/100\n",
      "2293/2293 [==============================] - 25s 11ms/step - loss: 265.9406 - val_loss: 276.9146\n",
      "Epoch 88/100\n",
      "2293/2293 [==============================] - 22s 9ms/step - loss: 266.4715 - val_loss: 270.9746\n",
      "Epoch 89/100\n",
      "2293/2293 [==============================] - 24s 10ms/step - loss: 265.8176 - val_loss: 276.6771\n",
      "Epoch 90/100\n",
      "2293/2293 [==============================] - 21s 9ms/step - loss: 265.8562 - val_loss: 274.9284\n",
      "Epoch 91/100\n",
      "2293/2293 [==============================] - 23s 10ms/step - loss: 264.5719 - val_loss: 289.3166\n",
      "Epoch 92/100\n",
      "2293/2293 [==============================] - 23s 10ms/step - loss: 264.9022 - val_loss: 280.1678\n",
      "Epoch 93/100\n",
      " 277/2293 [==>...........................] - ETA: 21s - loss: 268.0479"
     ]
    }
   ],
   "source": [
    "history = model.fit(\n",
    "    X_train, y_train,\n",
    "    validation_split = 0.15,\n",
    "    batch_size=15,\n",
    "    epochs=100,\n",
    ")"
   ]
  },
  {
   "cell_type": "code",
   "execution_count": null,
   "id": "68bb42eb-b312-4352-8f05-c6a356de9e92",
   "metadata": {},
   "outputs": [],
   "source": [
    "history_df = pd.DataFrame(history.history)\n",
    "# Start the plot at epoch 1. You can change this to get a different view.\n",
    "history_df.loc[1:, ['loss']].plot();"
   ]
  },
  {
   "cell_type": "code",
   "execution_count": null,
   "id": "5f04edfe-d883-47d6-8062-5f957bafd603",
   "metadata": {},
   "outputs": [],
   "source": []
  }
 ],
 "metadata": {
  "kernelspec": {
   "display_name": "d2l:Python",
   "language": "python",
   "name": "conda-env-d2l-py"
  },
  "language_info": {
   "codemirror_mode": {
    "name": "ipython",
    "version": 3
   },
   "file_extension": ".py",
   "mimetype": "text/x-python",
   "name": "python",
   "nbconvert_exporter": "python",
   "pygments_lexer": "ipython3",
   "version": "3.9.13"
  }
 },
 "nbformat": 4,
 "nbformat_minor": 5
}
